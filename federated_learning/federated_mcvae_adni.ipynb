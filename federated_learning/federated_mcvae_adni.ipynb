{
  "nbformat": 4,
  "nbformat_minor": 0,
  "metadata": {
    "colab": {
      "name": "federated-mcvae-adni.ipynb",
      "provenance": [],
      "collapsed_sections": []
    },
    "kernelspec": {
      "name": "python3",
      "display_name": "Python 3"
    }
  },
  "cells": [
    {
      "cell_type": "markdown",
      "metadata": {
        "id": "DaUlM5G0-3Z2"
      },
      "source": [
        "# Federated Variational Autoencoders in biomedical data\n",
        "Here, an example of a variability analysis using a Multi-channel variational autoencoder proposed by [Antelmi _et_ al](http://proceedings.mlr.press/v97/antelmi19a.html)."
      ]
    },
    {
      "cell_type": "code",
      "metadata": {
        "id": "R4I97nmo-yaj"
      },
      "source": [
        "import copy\n",
        "import pandas as pd\n",
        "\n",
        "import torch\n",
        "from torch.utils.data import Subset, DataLoader, random_split\n",
        "from torchvision import datasets, transforms"
      ],
      "execution_count": 1,
      "outputs": []
    },
    {
      "cell_type": "code",
      "metadata": {
        "id": "3TAtgoun-o-I"
      },
      "source": [
        "N_CENTERS = 4\n",
        "N_ROUNDS = 10   # Number of iterations between all the centers training and the aggregation process.\n",
        "\n",
        "N_EPOCHS = 15   # Number of epochs before aggregating\n",
        "BATCH_SIZE = 48\n",
        "LR = 1e-3       # Learning rate"
      ],
      "execution_count": 2,
      "outputs": []
    },
    {
      "cell_type": "markdown",
      "metadata": {
        "id": "Rwlv7bhp4Pu1"
      },
      "source": [
        "We define a set of functions to distribute our dataset across multiple centers (`split_iid`) and for doing federated averaging (`federated_averaging`)."
      ]
    },
    {
      "cell_type": "code",
      "metadata": {
        "id": "0a2H2aMK_XEJ"
      },
      "source": [
        "import numpy as np\n",
        "def split_iid(df, n_centers):\n",
        "    \"\"\" Split pandas DataFrame dataset randomly into n_centers \"\"\"\n",
        "    data = df.sample(frac=1)  # Shuffle dataset\n",
        "    data =  np.array_split(data, n_centers)\n",
        "    return data"
      ],
      "execution_count": 3,
      "outputs": []
    },
    {
      "cell_type": "code",
      "metadata": {
        "id": "BwVx6Cda4uyQ"
      },
      "source": [
        "def federated_averaging(models, n_obs_per_client):\n",
        "    assert len(models) > 0, 'An empty list of models was passed.'\n",
        "    assert len(n_obs_per_client) == len(models), 'List with number of observations must have ' \\\n",
        "                                                 'the same number of elements that list of models.'\n",
        "\n",
        "    # Compute proportions\n",
        "    n_obs = sum(n_obs_per_client)\n",
        "    proportions = [n_k / n_obs for n_k in n_obs_per_client]\n",
        "\n",
        "    # Empty model parameter dictionary\n",
        "    avg_params = models[0].state_dict()\n",
        "    for key, val in avg_params.items():\n",
        "        avg_params[key] = torch.zeros_like(val)\n",
        "\n",
        "    # Compute average\n",
        "    for model, proportion in zip(models, proportions):\n",
        "        for key in avg_params.keys():\n",
        "            avg_params[key] += proportion * model.state_dict()[key]\n",
        "\n",
        "    # Copy one of the models and load trained params\n",
        "    avg_model = copy.deepcopy(models[0])\n",
        "    avg_model.load_state_dict(avg_params)\n",
        "\n",
        "    return avg_model"
      ],
      "execution_count": 4,
      "outputs": []
    },
    {
      "cell_type": "markdown",
      "metadata": {
        "id": "rtBeNOs_5TRV"
      },
      "source": [
        "## Federating dataset"
      ]
    },
    {
      "cell_type": "code",
      "metadata": {
        "id": "zQIM1eIs3c3k",
        "colab": {
          "base_uri": "https://localhost:8080/",
          "height": 100
        },
        "outputId": "02ce29ef-f32b-47df-9d85-14fbdcbe2f3b"
      },
      "source": [
        "csv = 'https://gitlab.inria.fr/ssilvari/flhd/-/raw/master/heterogeneous_data/pseudo_adni.csv?inline=false'\n",
        "df = pd.read_csv(csv)\n",
        "df.sample()"
      ],
      "execution_count": 5,
      "outputs": [
        {
          "output_type": "execute_result",
          "data": {
            "text/html": [
              "<div>\n",
              "<style scoped>\n",
              "    .dataframe tbody tr th:only-of-type {\n",
              "        vertical-align: middle;\n",
              "    }\n",
              "\n",
              "    .dataframe tbody tr th {\n",
              "        vertical-align: top;\n",
              "    }\n",
              "\n",
              "    .dataframe thead th {\n",
              "        text-align: right;\n",
              "    }\n",
              "</style>\n",
              "<table border=\"1\" class=\"dataframe\">\n",
              "  <thead>\n",
              "    <tr style=\"text-align: right;\">\n",
              "      <th></th>\n",
              "      <th>SEX</th>\n",
              "      <th>AGE</th>\n",
              "      <th>PTEDUCAT</th>\n",
              "      <th>CDRSB.bl</th>\n",
              "      <th>ADAS11.bl</th>\n",
              "      <th>MMSE.bl</th>\n",
              "      <th>RAVLT.immediate.bl</th>\n",
              "      <th>RAVLT.learning.bl</th>\n",
              "      <th>RAVLT.forgetting.bl</th>\n",
              "      <th>FAQ.bl</th>\n",
              "      <th>WholeBrain.bl</th>\n",
              "      <th>Ventricles.bl</th>\n",
              "      <th>Hippocampus.bl</th>\n",
              "      <th>MidTemp.bl</th>\n",
              "      <th>Entorhinal.bl</th>\n",
              "      <th>APOE4</th>\n",
              "      <th>ABETA.MEDIAN.bl</th>\n",
              "      <th>PTAU.MEDIAN.bl</th>\n",
              "      <th>TAU.MEDIAN.bl</th>\n",
              "    </tr>\n",
              "  </thead>\n",
              "  <tbody>\n",
              "    <tr>\n",
              "      <th>785</th>\n",
              "      <td>0.950093</td>\n",
              "      <td>73.599446</td>\n",
              "      <td>15.548222</td>\n",
              "      <td>2.670125</td>\n",
              "      <td>11.304515</td>\n",
              "      <td>26.868209</td>\n",
              "      <td>32.532705</td>\n",
              "      <td>-0.058803</td>\n",
              "      <td>7.606843</td>\n",
              "      <td>9.6364</td>\n",
              "      <td>0.731003</td>\n",
              "      <td>0.020091</td>\n",
              "      <td>0.003822</td>\n",
              "      <td>0.014123</td>\n",
              "      <td>0.001893</td>\n",
              "      <td>0.539067</td>\n",
              "      <td>188.57027</td>\n",
              "      <td>56.527068</td>\n",
              "      <td>106.89067</td>\n",
              "    </tr>\n",
              "  </tbody>\n",
              "</table>\n",
              "</div>"
            ],
            "text/plain": [
              "          SEX        AGE  ...  PTAU.MEDIAN.bl  TAU.MEDIAN.bl\n",
              "785  0.950093  73.599446  ...       56.527068      106.89067\n",
              "\n",
              "[1 rows x 19 columns]"
            ]
          },
          "metadata": {
            "tags": []
          },
          "execution_count": 5
        }
      ]
    },
    {
      "cell_type": "markdown",
      "metadata": {
        "id": "58MA82hi5Wqo"
      },
      "source": [
        "Now, `federated_dataset` is a list of subsets of the main dataset."
      ]
    },
    {
      "cell_type": "code",
      "metadata": {
        "id": "Hmqxw8OtAJpe",
        "colab": {
          "base_uri": "https://localhost:8080/"
        },
        "outputId": "03ab0890-8868-4a1f-f515-b0cec76c4cc3"
      },
      "source": [
        "federated_dataset = split_iid(df, n_centers=N_CENTERS)\n",
        "print('Number of centers:', len(federated_dataset))"
      ],
      "execution_count": 6,
      "outputs": [
        {
          "output_type": "stream",
          "text": [
            "Number of centers: 4\n"
          ],
          "name": "stdout"
        }
      ]
    },
    {
      "cell_type": "markdown",
      "metadata": {
        "id": "4K25ntUw9Y2J"
      },
      "source": [
        "Finally, we must parse each dataframe in the form of a tensor Dataset grouping variables in 5 channels:\n",
        "* Volumetric data\n",
        "* Demographics\n",
        "* Cognition\n",
        "* Genetics: Apolipoprotein E (APOE)\n",
        "* Fluid biomarkers: Amyloid beta (Abeta) and Tau concentrations in the Cerebrospinal fluid (CSF)."
      ]
    },
    {
      "cell_type": "code",
      "metadata": {
        "id": "OS_9TL_x_oFR"
      },
      "source": [
        "def get_data_as_multichannel_tensor_dataset(df):\n",
        "    \"\"\"Takes a dataframe, splits it into multiple channels and parse each channel as a tensor\"\"\"\n",
        "    channel_1 = ['WholeBrain.bl', 'Ventricles.bl', 'Hippocampus.bl', 'MidTemp.bl', 'Entorhinal.bl']\n",
        "    channel_2 = ['SEX', 'AGE', 'PTEDUCAT']\n",
        "    channel_3 = ['CDRSB.bl', 'ADAS11.bl', 'MMSE.bl', 'RAVLT.immediate.bl', 'RAVLT.learning.bl', 'RAVLT.forgetting.bl', 'FAQ.bl']\n",
        "    channel_4 = ['APOE4']\n",
        "    channel_5 = ['ABETA.MEDIAN.bl', 'PTAU.MEDIAN.bl', 'TAU.MEDIAN.bl']\n",
        "\n",
        "    def as_tensor(cols):\n",
        "        return torch.tensor(df[cols].values).float()\n",
        "    \n",
        "    return [as_tensor(channel_1), as_tensor(channel_2), as_tensor(channel_3), as_tensor(channel_4), as_tensor(channel_5)]"
      ],
      "execution_count": 7,
      "outputs": []
    },
    {
      "cell_type": "markdown",
      "metadata": {
        "id": "if3uAKOQ8gDA"
      },
      "source": [
        "## Defining and distributing a model: Variational Autoencoder\n",
        "In this excercise we will use the Multi-channel Variational Autoencoder proposed by Antelmi _et_ al."
      ]
    },
    {
      "cell_type": "code",
      "metadata": {
        "colab": {
          "base_uri": "https://localhost:8080/"
        },
        "id": "swxoLLB1HZjZ",
        "outputId": "4a4bd349-5ea1-47ca-88d2-99ffac2fd6ff"
      },
      "source": [
        "!pip install -q git+https://gitlab.inria.fr/epione_ML/mcvae.git"
      ],
      "execution_count": 8,
      "outputs": [
        {
          "output_type": "stream",
          "text": [
            "  Building wheel for mcvae (setup.py) ... \u001b[?25l\u001b[?25hdone\n"
          ],
          "name": "stdout"
        }
      ]
    },
    {
      "cell_type": "code",
      "metadata": {
        "id": "fGYQqSqy8_Oe"
      },
      "source": [
        "from mcvae.models import Mcvae, ThreeLayersVAE, VAE"
      ],
      "execution_count": 9,
      "outputs": []
    },
    {
      "cell_type": "markdown",
      "metadata": {
        "id": "e0DULErY8ly-"
      },
      "source": [
        "First, it is necessary to define a model."
      ]
    },
    {
      "cell_type": "code",
      "metadata": {
        "id": "e28GtSTQ9r_t"
      },
      "source": [
        "dummy_data = [torch.zeros_like(x) for x in get_data_as_multichannel_tensor_dataset(df.sample())]  # Dummy data to initialize the input layer size\n",
        "lat_dim = 3  # Size of the latent space for this autoencoder\n",
        "vae_class = VAE  # Architecture of the autoencoder (VAE: Single layer)"
      ],
      "execution_count": 43,
      "outputs": []
    },
    {
      "cell_type": "code",
      "metadata": {
        "id": "9PTIpaglAnM_"
      },
      "source": [
        "model = Mcvae(data=dummy_data, lat_dim=lat_dim, vaeclass=vae_class)\n",
        "model.optimizer = torch.optim.Adam(params=model.parameters(), lr=1e-3)\n",
        "model.init_loss()"
      ],
      "execution_count": 44,
      "outputs": []
    },
    {
      "cell_type": "markdown",
      "metadata": {
        "id": "SY57ZUkx-YUc"
      },
      "source": [
        "Now replicate a copy of the models across different centers."
      ]
    },
    {
      "cell_type": "code",
      "metadata": {
        "id": "GiXQtB-eF3Mv"
      },
      "source": [
        "models = [copy.deepcopy(model) for _ in range(N_CENTERS)]\n",
        "n_obs_per_client = [len(client_data) for client_data in federated_dataset]"
      ],
      "execution_count": 45,
      "outputs": []
    },
    {
      "cell_type": "markdown",
      "metadata": {
        "id": "tah_VnaB-xdo"
      },
      "source": [
        "Train in a federated fashion"
      ]
    },
    {
      "cell_type": "code",
      "metadata": {
        "colab": {
          "base_uri": "https://localhost:8080/"
        },
        "id": "uL2a10Rg-vE4",
        "outputId": "02f6a4b2-29d9-4af8-83ab-ae3ba418b98b"
      },
      "source": [
        "init_params = model.state_dict()\n",
        "for round_i in range(N_ROUNDS):\n",
        "    for client_dataset, client_model in zip(federated_dataset, models):\n",
        "        # Load client data in the form of a tensor\n",
        "        X = get_data_as_multichannel_tensor_dataset(client_dataset)\n",
        "\n",
        "        # Load client's model parameters and train\n",
        "        client_model.load_state_dict(init_params)\n",
        "        client_model.optimize(epochs=N_EPOCHS, data=client_model.data)\n",
        "        \n",
        "    # Aggregate models using federated averaging\n",
        "    trained_model = federated_averaging(models, n_obs_per_client)\n",
        "    init_params = trained_model.state_dict()"
      ],
      "execution_count": 46,
      "outputs": [
        {
          "output_type": "stream",
          "text": [
            "====> Epoch:    0/15 (0%)\tLoss: 439.9036\tLL: -439.0095\tKL: 0.8941\tLL/KL: -491.0039\n",
            "====> Epoch:   10/15 (67%)\tLoss: 530.3003\tLL: -529.4180\tKL: 0.8823\tLL/KL: -600.0606\n",
            "====> Epoch:    0/15 (0%)\tLoss: 690.5297\tLL: -689.6356\tKL: 0.8941\tLL/KL: -771.3131\n",
            "====> Epoch:   10/15 (67%)\tLoss: 228.5592\tLL: -227.6834\tKL: 0.8758\tLL/KL: -259.9705\n",
            "====> Epoch:    0/15 (0%)\tLoss: 663.4890\tLL: -662.5949\tKL: 0.8941\tLL/KL: -741.0698\n",
            "====> Epoch:   10/15 (67%)\tLoss: 277.6280\tLL: -276.7472\tKL: 0.8808\tLL/KL: -314.2077\n",
            "====> Epoch:    0/15 (0%)\tLoss: 268.3115\tLL: -267.4174\tKL: 0.8941\tLL/KL: -299.0891\n",
            "====> Epoch:   10/15 (67%)\tLoss: 412.7573\tLL: -411.8764\tKL: 0.8809\tLL/KL: -467.5475\n",
            "====> Epoch:   20/30 (67%)\tLoss: 275.9202\tLL: -275.0525\tKL: 0.8677\tLL/KL: -316.9901\n",
            "====> Epoch:   20/30 (67%)\tLoss: 347.4671\tLL: -346.6003\tKL: 0.8668\tLL/KL: -399.8580\n",
            "====> Epoch:   20/30 (67%)\tLoss: 197.9353\tLL: -197.0673\tKL: 0.8680\tLL/KL: -227.0315\n",
            "====> Epoch:   20/30 (67%)\tLoss: 464.5324\tLL: -463.6664\tKL: 0.8660\tLL/KL: -535.4127\n",
            "====> Epoch:   30/45 (67%)\tLoss: 191.7640\tLL: -190.9087\tKL: 0.8553\tLL/KL: -223.1967\n",
            "====> Epoch:   40/45 (89%)\tLoss: 156.6797\tLL: -155.8370\tKL: 0.8427\tLL/KL: -184.9308\n",
            "====> Epoch:   30/45 (67%)\tLoss: 303.0713\tLL: -302.2159\tKL: 0.8553\tLL/KL: -353.3292\n",
            "====> Epoch:   40/45 (89%)\tLoss: 278.5506\tLL: -277.7032\tKL: 0.8474\tLL/KL: -327.7243\n",
            "====> Epoch:   30/45 (67%)\tLoss: 175.7613\tLL: -174.9059\tKL: 0.8553\tLL/KL: -204.4874\n",
            "====> Epoch:   40/45 (89%)\tLoss: 280.6632\tLL: -279.8176\tKL: 0.8456\tLL/KL: -330.9075\n",
            "====> Epoch:   30/45 (67%)\tLoss: 291.0142\tLL: -290.1588\tKL: 0.8553\tLL/KL: -339.2328\n",
            "====> Epoch:   40/45 (89%)\tLoss: 412.5674\tLL: -411.7228\tKL: 0.8446\tLL/KL: -487.4882\n",
            "====> Epoch:   50/60 (83%)\tLoss: 126.4198\tLL: -125.5858\tKL: 0.8340\tLL/KL: -150.5831\n",
            "====> Epoch:   50/60 (83%)\tLoss: 263.0939\tLL: -262.2592\tKL: 0.8347\tLL/KL: -314.2137\n",
            "====> Epoch:   50/60 (83%)\tLoss: 467.9439\tLL: -467.1081\tKL: 0.8358\tLL/KL: -558.9029\n",
            "====> Epoch:   50/60 (83%)\tLoss: 200.1723\tLL: -199.3373\tKL: 0.8350\tLL/KL: -238.7238\n",
            "====> Epoch:   60/75 (80%)\tLoss: 85.3795\tLL: -84.5545\tKL: 0.8250\tLL/KL: -102.4952\n",
            "====> Epoch:   70/75 (93%)\tLoss: 252.7260\tLL: -251.9102\tKL: 0.8158\tLL/KL: -308.7907\n",
            "====> Epoch:   60/75 (80%)\tLoss: 199.0555\tLL: -198.2306\tKL: 0.8250\tLL/KL: -240.2907\n",
            "====> Epoch:   70/75 (93%)\tLoss: 347.5998\tLL: -346.7833\tKL: 0.8165\tLL/KL: -424.7261\n",
            "====> Epoch:   60/75 (80%)\tLoss: 287.3671\tLL: -286.5421\tKL: 0.8250\tLL/KL: -347.3401\n",
            "====> Epoch:   70/75 (93%)\tLoss: 300.0855\tLL: -299.2684\tKL: 0.8171\tLL/KL: -366.2741\n",
            "====> Epoch:   60/75 (80%)\tLoss: 237.0336\tLL: -236.2087\tKL: 0.8250\tLL/KL: -286.3269\n",
            "====> Epoch:   70/75 (93%)\tLoss: 144.6491\tLL: -143.8340\tKL: 0.8151\tLL/KL: -176.4661\n",
            "====> Epoch:   80/90 (89%)\tLoss: 180.4219\tLL: -179.6149\tKL: 0.8070\tLL/KL: -222.5665\n",
            "====> Epoch:   80/90 (89%)\tLoss: 129.0943\tLL: -128.2872\tKL: 0.8072\tLL/KL: -158.9368\n",
            "====> Epoch:   80/90 (89%)\tLoss: 195.7174\tLL: -194.9101\tKL: 0.8073\tLL/KL: -241.4388\n",
            "====> Epoch:   80/90 (89%)\tLoss: 91.2505\tLL: -90.4436\tKL: 0.8069\tLL/KL: -112.0860\n",
            "====> Epoch:   90/105 (86%)\tLoss: 124.7462\tLL: -123.9466\tKL: 0.7995\tLL/KL: -155.0261\n",
            "====> Epoch:  100/105 (95%)\tLoss: 180.5036\tLL: -179.7137\tKL: 0.7899\tLL/KL: -227.5101\n",
            "====> Epoch:   90/105 (86%)\tLoss: 96.6856\tLL: -95.8861\tKL: 0.7995\tLL/KL: -119.9294\n",
            "====> Epoch:  100/105 (95%)\tLoss: 206.5632\tLL: -205.7722\tKL: 0.7909\tLL/KL: -260.1725\n",
            "====> Epoch:   90/105 (86%)\tLoss: 123.4877\tLL: -122.6882\tKL: 0.7995\tLL/KL: -153.4520\n",
            "====> Epoch:  100/105 (95%)\tLoss: 135.5983\tLL: -134.8070\tKL: 0.7913\tLL/KL: -170.3552\n",
            "====> Epoch:   90/105 (86%)\tLoss: 241.8146\tLL: -241.0151\tKL: 0.7995\tLL/KL: -301.4493\n",
            "====> Epoch:  100/105 (95%)\tLoss: 240.8759\tLL: -240.0818\tKL: 0.7941\tLL/KL: -302.3141\n",
            "====> Epoch:  110/120 (92%)\tLoss: 378.9825\tLL: -378.2014\tKL: 0.7811\tLL/KL: -484.1789\n",
            "====> Epoch:  110/120 (92%)\tLoss: 282.4536\tLL: -281.6717\tKL: 0.7819\tLL/KL: -360.2609\n",
            "====> Epoch:  110/120 (92%)\tLoss: 179.5260\tLL: -178.7448\tKL: 0.7811\tLL/KL: -228.8285\n",
            "====> Epoch:  110/120 (92%)\tLoss: 274.9412\tLL: -274.1567\tKL: 0.7845\tLL/KL: -349.4586\n",
            "====> Epoch:  120/135 (89%)\tLoss: 142.0041\tLL: -141.2305\tKL: 0.7736\tLL/KL: -182.5683\n",
            "====> Epoch:  130/135 (96%)\tLoss: 125.0140\tLL: -124.2485\tKL: 0.7655\tLL/KL: -162.3198\n",
            "====> Epoch:  120/135 (89%)\tLoss: 263.7420\tLL: -262.9684\tKL: 0.7736\tLL/KL: -339.9385\n",
            "====> Epoch:  130/135 (96%)\tLoss: 148.4195\tLL: -147.6542\tKL: 0.7653\tLL/KL: -192.9374\n",
            "====> Epoch:  120/135 (89%)\tLoss: 174.8756\tLL: -174.1020\tKL: 0.7736\tLL/KL: -225.0612\n",
            "====> Epoch:  130/135 (96%)\tLoss: 63.2547\tLL: -62.4866\tKL: 0.7681\tLL/KL: -81.3558\n",
            "====> Epoch:  120/135 (89%)\tLoss: 130.6517\tLL: -129.8781\tKL: 0.7736\tLL/KL: -167.8930\n",
            "====> Epoch:  130/135 (96%)\tLoss: 153.9144\tLL: -153.1460\tKL: 0.7684\tLL/KL: -199.3093\n",
            "====> Epoch:  140/150 (93%)\tLoss: 173.2816\tLL: -172.5217\tKL: 0.7599\tLL/KL: -227.0261\n",
            "====> Epoch:  140/150 (93%)\tLoss: 276.2948\tLL: -275.5345\tKL: 0.7603\tLL/KL: -362.3850\n",
            "====> Epoch:  140/150 (93%)\tLoss: 182.1207\tLL: -181.3595\tKL: 0.7612\tLL/KL: -238.2577\n",
            "====> Epoch:  140/150 (93%)\tLoss: 119.6935\tLL: -118.9312\tKL: 0.7623\tLL/KL: -156.0175\n"
          ],
          "name": "stdout"
        }
      ]
    },
    {
      "cell_type": "markdown",
      "metadata": {
        "id": "0gz_IRXHOL_L"
      },
      "source": [
        "## Results visualization\n",
        "Using the final parameters we can evaluate the performance of the model by visualizing the testing set onto the latent space."
      ]
    },
    {
      "cell_type": "code",
      "metadata": {
        "id": "-yNMU8hoPGjV"
      },
      "source": [
        "import numpy as np\n",
        "import pandas as pd\n",
        "\n",
        "import seaborn as sns\n",
        "import matplotlib.pyplot as plt\n",
        "\n",
        "sns.set()"
      ],
      "execution_count": 47,
      "outputs": []
    },
    {
      "cell_type": "markdown",
      "metadata": {
        "id": "KNQAiUlBIq5v"
      },
      "source": [
        "Here we store in a list the deconding weights estimated for each modality. \n",
        "**We are interested in the decoding weights corresponding to each dimmension of the latent space $Z_i$**."
      ]
    },
    {
      "cell_type": "code",
      "metadata": {
        "id": "nuf5HBQe4RSv"
      },
      "source": [
        "decoding_weights_dict = {k: w.detach().numpy() for k, w in trained_model.state_dict().items() if 'W_out.weight' in k}"
      ],
      "execution_count": 86,
      "outputs": []
    },
    {
      "cell_type": "code",
      "metadata": {
        "colab": {
          "base_uri": "https://localhost:8080/",
          "height": 204
        },
        "id": "ZPhbu1eQAXGQ",
        "outputId": "95963457-7c64-4e76-cb83-9143334519ca"
      },
      "source": [
        "lat_dim_names = [f'$Z_{{{i}}}$' for i in range(lat_dim)]\n",
        "weights = pd.DataFrame()\n",
        "\n",
        "for channel_i, weights_i in enumerate(decoding_weights_dict.values(), 1):\n",
        "    channel_df = pd.DataFrame(weights_i, columns=lat_dim_names)\n",
        "    channel_df['channel'] = channel_i\n",
        "\n",
        "    weights = weights.append(channel_df, ignore_index=True)\n",
        "\n",
        "weights.index = df.columns\n",
        "weights.index.name = 'biomarker'\n",
        "weights.reset_index(inplace=True)\n",
        "weights.head()"
      ],
      "execution_count": 103,
      "outputs": [
        {
          "output_type": "execute_result",
          "data": {
            "text/html": [
              "<div>\n",
              "<style scoped>\n",
              "    .dataframe tbody tr th:only-of-type {\n",
              "        vertical-align: middle;\n",
              "    }\n",
              "\n",
              "    .dataframe tbody tr th {\n",
              "        vertical-align: top;\n",
              "    }\n",
              "\n",
              "    .dataframe thead th {\n",
              "        text-align: right;\n",
              "    }\n",
              "</style>\n",
              "<table border=\"1\" class=\"dataframe\">\n",
              "  <thead>\n",
              "    <tr style=\"text-align: right;\">\n",
              "      <th></th>\n",
              "      <th>biomarker</th>\n",
              "      <th>$Z_{0}$</th>\n",
              "      <th>$Z_{1}$</th>\n",
              "      <th>$Z_{2}$</th>\n",
              "      <th>channel</th>\n",
              "    </tr>\n",
              "  </thead>\n",
              "  <tbody>\n",
              "    <tr>\n",
              "      <th>0</th>\n",
              "      <td>SEX</td>\n",
              "      <td>-0.142914</td>\n",
              "      <td>0.019806</td>\n",
              "      <td>-0.412941</td>\n",
              "      <td>1</td>\n",
              "    </tr>\n",
              "    <tr>\n",
              "      <th>1</th>\n",
              "      <td>AGE</td>\n",
              "      <td>-0.277777</td>\n",
              "      <td>0.446932</td>\n",
              "      <td>0.204469</td>\n",
              "      <td>1</td>\n",
              "    </tr>\n",
              "    <tr>\n",
              "      <th>2</th>\n",
              "      <td>PTEDUCAT</td>\n",
              "      <td>0.023073</td>\n",
              "      <td>0.364177</td>\n",
              "      <td>-0.036446</td>\n",
              "      <td>1</td>\n",
              "    </tr>\n",
              "    <tr>\n",
              "      <th>3</th>\n",
              "      <td>CDRSB.bl</td>\n",
              "      <td>0.385323</td>\n",
              "      <td>-0.092444</td>\n",
              "      <td>-0.129499</td>\n",
              "      <td>1</td>\n",
              "    </tr>\n",
              "    <tr>\n",
              "      <th>4</th>\n",
              "      <td>ADAS11.bl</td>\n",
              "      <td>-0.116536</td>\n",
              "      <td>-0.083172</td>\n",
              "      <td>-0.086657</td>\n",
              "      <td>1</td>\n",
              "    </tr>\n",
              "  </tbody>\n",
              "</table>\n",
              "</div>"
            ],
            "text/plain": [
              "   biomarker   $Z_{0}$   $Z_{1}$   $Z_{2}$  channel\n",
              "0        SEX -0.142914  0.019806 -0.412941        1\n",
              "1        AGE -0.277777  0.446932  0.204469        1\n",
              "2   PTEDUCAT  0.023073  0.364177 -0.036446        1\n",
              "3   CDRSB.bl  0.385323 -0.092444 -0.129499        1\n",
              "4  ADAS11.bl -0.116536 -0.083172 -0.086657        1"
            ]
          },
          "metadata": {
            "tags": []
          },
          "execution_count": 103
        }
      ]
    },
    {
      "cell_type": "markdown",
      "metadata": {
        "id": "qfuDyCFhNhdI"
      },
      "source": [
        "We prepare the dataset in a form so it is easily visualizable."
      ]
    },
    {
      "cell_type": "code",
      "metadata": {
        "colab": {
          "base_uri": "https://localhost:8080/",
          "height": 80
        },
        "id": "fDcaqWnCG5me",
        "outputId": "39b941cd-c796-4f77-91fd-2d2c9fc1d65c"
      },
      "source": [
        "weights_melt = weights.melt(id_vars=['biomarker', 'channel'], var_name='latent_var')\n",
        "weights_melt.sample()"
      ],
      "execution_count": 106,
      "outputs": [
        {
          "output_type": "execute_result",
          "data": {
            "text/html": [
              "<div>\n",
              "<style scoped>\n",
              "    .dataframe tbody tr th:only-of-type {\n",
              "        vertical-align: middle;\n",
              "    }\n",
              "\n",
              "    .dataframe tbody tr th {\n",
              "        vertical-align: top;\n",
              "    }\n",
              "\n",
              "    .dataframe thead th {\n",
              "        text-align: right;\n",
              "    }\n",
              "</style>\n",
              "<table border=\"1\" class=\"dataframe\">\n",
              "  <thead>\n",
              "    <tr style=\"text-align: right;\">\n",
              "      <th></th>\n",
              "      <th>biomarker</th>\n",
              "      <th>channel</th>\n",
              "      <th>latent_var</th>\n",
              "      <th>value</th>\n",
              "    </tr>\n",
              "  </thead>\n",
              "  <tbody>\n",
              "    <tr>\n",
              "      <th>52</th>\n",
              "      <td>Entorhinal.bl</td>\n",
              "      <td>3</td>\n",
              "      <td>$Z_{2}$</td>\n",
              "      <td>0.459813</td>\n",
              "    </tr>\n",
              "  </tbody>\n",
              "</table>\n",
              "</div>"
            ],
            "text/plain": [
              "        biomarker  channel latent_var     value\n",
              "52  Entorhinal.bl        3    $Z_{2}$  0.459813"
            ]
          },
          "metadata": {
            "tags": []
          },
          "execution_count": 106
        }
      ]
    },
    {
      "cell_type": "code",
      "metadata": {
        "colab": {
          "base_uri": "https://localhost:8080/",
          "height": 1000
        },
        "id": "ym8Yt8Jp80EL",
        "outputId": "adc65776-fdf6-45ef-ade1-6ad025a8193f"
      },
      "source": [
        "sns.catplot(data=weights_melt, x='biomarker', y='value', hue='latent_var', kind='bar', col='channel', col_wrap=1, aspect=2.5, sharex=False, palette='Blues_r')\n",
        "plt.show()"
      ],
      "execution_count": 117,
      "outputs": [
        {
          "output_type": "display_data",
          "data": {
            "image/png": "[encoded data removed]",
            "text/plain": [
              "<Figure size 969.8x1800 with 5 Axes>"
            ]
          },
          "metadata": {
            "tags": []
          }
        }
      ]
    }
  ]
}