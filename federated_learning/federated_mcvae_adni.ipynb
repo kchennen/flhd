{
 "cells": [
  {
   "cell_type": "markdown",
   "metadata": {
    "id": "DaUlM5G0-3Z2"
   },
   "source": [
    "# Federated Variational Autoencoders in biomedical data\n",
    "Here, an example of a variability analysis using a Multi-channel variational autoencoder proposed by [Antelmi _et_ al](http://proceedings.mlr.press/v97/antelmi19a.html)."
   ]
  },
  {
   "cell_type": "code",
   "execution_count": 1,
   "metadata": {
    "id": "R4I97nmo-yaj"
   },
   "outputs": [],
   "source": [
    "import copy\n",
    "import pandas as pd\n",
    "\n",
    "import torch\n",
    "from torch.utils.data import Subset, DataLoader, random_split\n",
    "from torchvision import datasets, transforms"
   ]
  },
  {
   "cell_type": "code",
   "execution_count": 2,
   "metadata": {
    "id": "3TAtgoun-o-I"
   },
   "outputs": [],
   "source": [
    "N_CENTERS = 4\n",
    "N_ROUNDS = 50   # Number of iterations between all the centers training and the aggregation process.\n",
    "\n",
    "N_EPOCHS = 100   # Number of epochs before aggregating\n",
    "BATCH_SIZE = 48\n",
    "LR = 1e-2       # Learning rate"
   ]
  },
  {
   "cell_type": "markdown",
   "metadata": {
    "id": "Rwlv7bhp4Pu1"
   },
   "source": [
    "We define a set of functions to distribute our dataset across multiple centers (`split_iid`) and for doing federated averaging (`federated_averaging`)."
   ]
  },
  {
   "cell_type": "code",
   "execution_count": 3,
   "metadata": {
    "id": "0a2H2aMK_XEJ"
   },
   "outputs": [],
   "source": [
    "import numpy as np\n",
    "def split_iid(df, n_centers):\n",
    "    \"\"\" Split pandas DataFrame dataset randomly into n_centers \"\"\"\n",
    "    data = df.sample(frac=1)  # Shuffle dataset\n",
    "    data =  np.array_split(data, n_centers)\n",
    "    return data"
   ]
  },
  {
   "cell_type": "code",
   "execution_count": 4,
   "metadata": {
    "id": "BwVx6Cda4uyQ"
   },
   "outputs": [],
   "source": [
    "def federated_averaging(models, n_obs_per_client):\n",
    "    assert len(models) > 0, 'An empty list of models was passed.'\n",
    "    assert len(n_obs_per_client) == len(models), 'List with number of observations must have ' \\\n",
    "                                                 'the same number of elements that list of models.'\n",
    "\n",
    "    # Compute proportions\n",
    "    n_obs = sum(n_obs_per_client)\n",
    "    proportions = [n_k / n_obs for n_k in n_obs_per_client]\n",
    "\n",
    "    # Empty model parameter dictionary\n",
    "    avg_params = models[0].state_dict()\n",
    "    for key, val in avg_params.items():\n",
    "        avg_params[key] = torch.zeros_like(val)\n",
    "\n",
    "    # Compute average\n",
    "    for model, proportion in zip(models, proportions):\n",
    "        for key in avg_params.keys():\n",
    "            avg_params[key] += proportion * model.state_dict()[key]\n",
    "\n",
    "    # Copy one of the models and load trained params\n",
    "    avg_model = copy.deepcopy(models[0])\n",
    "    avg_model.load_state_dict(avg_params)\n",
    "\n",
    "    return avg_model"
   ]
  },
  {
   "cell_type": "markdown",
   "metadata": {
    "id": "rtBeNOs_5TRV"
   },
   "source": [
    "## Federating dataset"
   ]
  },
  {
   "cell_type": "code",
   "execution_count": 5,
   "metadata": {
    "colab": {
     "base_uri": "https://localhost:8080/",
     "height": 100
    },
    "id": "zQIM1eIs3c3k",
    "outputId": "02ce29ef-f32b-47df-9d85-14fbdcbe2f3b"
   },
   "outputs": [
    {
     "data": {
      "text/html": [
       "<div>\n",
       "<style scoped>\n",
       "    .dataframe tbody tr th:only-of-type {\n",
       "        vertical-align: middle;\n",
       "    }\n",
       "\n",
       "    .dataframe tbody tr th {\n",
       "        vertical-align: top;\n",
       "    }\n",
       "\n",
       "    .dataframe thead th {\n",
       "        text-align: right;\n",
       "    }\n",
       "</style>\n",
       "<table border=\"1\" class=\"dataframe\">\n",
       "  <thead>\n",
       "    <tr style=\"text-align: right;\">\n",
       "      <th></th>\n",
       "      <th>SEX</th>\n",
       "      <th>AGE</th>\n",
       "      <th>PTEDUCAT</th>\n",
       "      <th>CDRSB.bl</th>\n",
       "      <th>ADAS11.bl</th>\n",
       "      <th>MMSE.bl</th>\n",
       "      <th>RAVLT.immediate.bl</th>\n",
       "      <th>RAVLT.learning.bl</th>\n",
       "      <th>RAVLT.forgetting.bl</th>\n",
       "      <th>FAQ.bl</th>\n",
       "      <th>WholeBrain.bl</th>\n",
       "      <th>Ventricles.bl</th>\n",
       "      <th>Hippocampus.bl</th>\n",
       "      <th>MidTemp.bl</th>\n",
       "      <th>Entorhinal.bl</th>\n",
       "      <th>APOE4</th>\n",
       "      <th>ABETA.MEDIAN.bl</th>\n",
       "      <th>PTAU.MEDIAN.bl</th>\n",
       "      <th>TAU.MEDIAN.bl</th>\n",
       "    </tr>\n",
       "  </thead>\n",
       "  <tbody>\n",
       "    <tr>\n",
       "      <td>669</td>\n",
       "      <td>1.0</td>\n",
       "      <td>69.0</td>\n",
       "      <td>14.945415</td>\n",
       "      <td>0</td>\n",
       "      <td>7</td>\n",
       "      <td>27.0</td>\n",
       "      <td>28.482003</td>\n",
       "      <td>3.0</td>\n",
       "      <td>3.349521</td>\n",
       "      <td>0</td>\n",
       "      <td>0.687166</td>\n",
       "      <td>0.007506</td>\n",
       "      <td>0.005003</td>\n",
       "      <td>0.013367</td>\n",
       "      <td>0.002208</td>\n",
       "      <td>0</td>\n",
       "      <td>200.999667</td>\n",
       "      <td>9.887908</td>\n",
       "      <td>7.109941</td>\n",
       "    </tr>\n",
       "  </tbody>\n",
       "</table>\n",
       "</div>"
      ],
      "text/plain": [
       "     SEX   AGE   PTEDUCAT  CDRSB.bl  ADAS11.bl  MMSE.bl  RAVLT.immediate.bl  \\\n",
       "669  1.0  69.0  14.945415         0          7     27.0           28.482003   \n",
       "\n",
       "     RAVLT.learning.bl  RAVLT.forgetting.bl  FAQ.bl  WholeBrain.bl  \\\n",
       "669                3.0             3.349521       0       0.687166   \n",
       "\n",
       "     Ventricles.bl  Hippocampus.bl  MidTemp.bl  Entorhinal.bl  APOE4  \\\n",
       "669       0.007506        0.005003    0.013367       0.002208      0   \n",
       "\n",
       "     ABETA.MEDIAN.bl  PTAU.MEDIAN.bl  TAU.MEDIAN.bl  \n",
       "669       200.999667        9.887908       7.109941  "
      ]
     },
     "execution_count": 5,
     "metadata": {},
     "output_type": "execute_result"
    }
   ],
   "source": [
    "csv = 'https://gitlab.inria.fr/ssilvari/flhd/-/raw/master/heterogeneous_data/pseudo_adni.csv?inline=false'\n",
    "df = pd.read_csv(csv)\n",
    "\n",
    "df.sample()"
   ]
  },
  {
   "cell_type": "code",
   "execution_count": 6,
   "metadata": {},
   "outputs": [
    {
     "data": {
      "text/plain": [
       "Index(['SEX', 'AGE', 'PTEDUCAT', 'CDRSB.bl', 'ADAS11.bl', 'MMSE.bl',\n",
       "       'RAVLT.immediate.bl', 'RAVLT.learning.bl', 'RAVLT.forgetting.bl',\n",
       "       'FAQ.bl', 'WholeBrain.bl', 'Ventricles.bl', 'Hippocampus.bl',\n",
       "       'MidTemp.bl', 'Entorhinal.bl', 'APOE4', 'ABETA.MEDIAN.bl',\n",
       "       'PTAU.MEDIAN.bl', 'TAU.MEDIAN.bl'],\n",
       "      dtype='object')"
      ]
     },
     "execution_count": 6,
     "metadata": {},
     "output_type": "execute_result"
    }
   ],
   "source": [
    "df.columns"
   ]
  },
  {
   "cell_type": "code",
   "execution_count": 7,
   "metadata": {},
   "outputs": [
    {
     "data": {
      "text/plain": [
       "4.0     153\n",
       "5.0     128\n",
       "3.0     117\n",
       "6.0     112\n",
       "0.0     100\n",
       "2.0      98\n",
       "1.0      96\n",
       "7.0      90\n",
       "8.0      62\n",
       "9.0      31\n",
       "10.0     10\n",
       "12.0      2\n",
       "11.0      1\n",
       "Name: RAVLT.learning.bl, dtype: int64"
      ]
     },
     "execution_count": 7,
     "metadata": {},
     "output_type": "execute_result"
    }
   ],
   "source": [
    "df[\"RAVLT.learning.bl\"].value_counts()"
   ]
  },
  {
   "cell_type": "markdown",
   "metadata": {
    "id": "58MA82hi5Wqo"
   },
   "source": [
    "Now, `federated_dataset` is a list of subsets of the main dataset."
   ]
  },
  {
   "cell_type": "code",
   "execution_count": 8,
   "metadata": {
    "colab": {
     "base_uri": "https://localhost:8080/"
    },
    "id": "Hmqxw8OtAJpe",
    "outputId": "03ab0890-8868-4a1f-f515-b0cec76c4cc3"
   },
   "outputs": [
    {
     "name": "stdout",
     "output_type": "stream",
     "text": [
      "Number of centers: 4\n"
     ]
    }
   ],
   "source": [
    "federated_dataset = split_iid(df, n_centers=N_CENTERS)\n",
    "print('Number of centers:', len(federated_dataset))"
   ]
  },
  {
   "cell_type": "markdown",
   "metadata": {
    "id": "4K25ntUw9Y2J"
   },
   "source": [
    "Finally, we must parse each dataframe in the form of a tensor Dataset grouping variables in 5 channels:\n",
    "* Volumetric data\n",
    "* Demographics\n",
    "* Cognition\n",
    "* Genetics: Apolipoprotein E (APOE)\n",
    "* Fluid biomarkers: Amyloid beta (Abeta) and Tau concentrations in the Cerebrospinal fluid (CSF)."
   ]
  },
  {
   "cell_type": "code",
   "execution_count": 9,
   "metadata": {
    "id": "OS_9TL_x_oFR"
   },
   "outputs": [],
   "source": [
    "def get_channels():\n",
    "    \n",
    "    channel_1 = ['WholeBrain.bl', 'Ventricles.bl', 'Hippocampus.bl', 'MidTemp.bl', 'Entorhinal.bl']\n",
    "    channel_2 = ['SEX', 'AGE', 'PTEDUCAT']\n",
    "    channel_3 = ['CDRSB.bl', 'ADAS11.bl', 'MMSE.bl', 'RAVLT.immediate.bl', 'RAVLT.learning.bl', 'RAVLT.forgetting.bl', 'FAQ.bl']\n",
    "    channel_4 = ['APOE4']\n",
    "    channel_5 = ['ABETA.MEDIAN.bl', 'PTAU.MEDIAN.bl', 'TAU.MEDIAN.bl']\n",
    "    return channel_1, channel_2, channel_3, channel_4, channel_5\n",
    "\n",
    "def get_data_as_multichannel_tensor_dataset(df):\n",
    "    \"\"\"Takes a dataframe, splits it into multiple channels and parse each channel as a tensor\"\"\"\n",
    "    channel_1, channel_2, channel_3, channel_4, channel_5 = get_channels()\n",
    "    \n",
    "    df = (df - df.mean())/df.std()\n",
    "    def as_tensor(cols):\n",
    "        return torch.tensor(df[cols].values).float()\n",
    "    \n",
    "    return [as_tensor(channel_1), as_tensor(channel_2), as_tensor(channel_3), as_tensor(channel_4), as_tensor(channel_5)]"
   ]
  },
  {
   "cell_type": "markdown",
   "metadata": {
    "id": "if3uAKOQ8gDA"
   },
   "source": [
    "## Defining and distributing a model: Variational Autoencoder\n",
    "In this excercise we will use the Multi-channel Variational Autoencoder proposed by Antelmi _et_ al."
   ]
  },
  {
   "cell_type": "code",
   "execution_count": 10,
   "metadata": {
    "colab": {
     "base_uri": "https://localhost:8080/"
    },
    "id": "swxoLLB1HZjZ",
    "outputId": "4a4bd349-5ea1-47ca-88d2-99ffac2fd6ff"
   },
   "outputs": [],
   "source": [
    "!pip install -q git+https://gitlab.inria.fr/epione_ML/mcvae.git"
   ]
  },
  {
   "cell_type": "code",
   "execution_count": 11,
   "metadata": {
    "id": "fGYQqSqy8_Oe"
   },
   "outputs": [],
   "source": [
    "from mcvae.models import Mcvae, ThreeLayersVAE, VAE"
   ]
  },
  {
   "cell_type": "markdown",
   "metadata": {
    "id": "e0DULErY8ly-"
   },
   "source": [
    "First, it is necessary to define a model."
   ]
  },
  {
   "cell_type": "code",
   "execution_count": 12,
   "metadata": {
    "id": "e28GtSTQ9r_t"
   },
   "outputs": [],
   "source": [
    "dummy_data = [torch.zeros_like(x) for x in get_data_as_multichannel_tensor_dataset(df.sample())]  # Dummy data to initialize the input layer size\n",
    "lat_dim = 1  # Size of the latent space for this autoencoder\n",
    "vae_class = VAE  # Architecture of the autoencoder (VAE: Single layer)"
   ]
  },
  {
   "cell_type": "code",
   "execution_count": 13,
   "metadata": {
    "id": "9PTIpaglAnM_"
   },
   "outputs": [],
   "source": [
    "model = Mcvae(data=dummy_data, lat_dim=lat_dim, vaeclass=vae_class)\n",
    "model.optimizer = torch.optim.Adam(params=model.parameters(), lr=1e-3)\n",
    "model.init_loss()"
   ]
  },
  {
   "cell_type": "markdown",
   "metadata": {
    "id": "SY57ZUkx-YUc"
   },
   "source": [
    "Now replicate a copy of the models across different centers."
   ]
  },
  {
   "cell_type": "code",
   "execution_count": 14,
   "metadata": {
    "id": "GiXQtB-eF3Mv"
   },
   "outputs": [],
   "source": [
    "models = [copy.deepcopy(model) for _ in range(N_CENTERS)]\n",
    "n_obs_per_client = [len(client_data) for client_data in federated_dataset]"
   ]
  },
  {
   "cell_type": "markdown",
   "metadata": {
    "id": "tah_VnaB-xdo"
   },
   "source": [
    "Train in a federated fashion"
   ]
  },
  {
   "cell_type": "code",
   "execution_count": null,
   "metadata": {
    "colab": {
     "base_uri": "https://localhost:8080/"
    },
    "id": "uL2a10Rg-vE4",
    "outputId": "02f6a4b2-29d9-4af8-83ab-ae3ba418b98b"
   },
   "outputs": [],
   "source": [
    "init_params = model.state_dict()\n",
    "for round_i in range(N_ROUNDS):\n",
    "    for client_dataset, client_model in zip(federated_dataset, models):\n",
    "        # Load client data in the form of a tensor\n",
    "        X = get_data_as_multichannel_tensor_dataset(client_dataset)\n",
    "\n",
    "        # Load client's model parameters and train\n",
    "        client_model.load_state_dict(init_params)\n",
    "        client_model.optimize(epochs=N_EPOCHS, data=X)\n",
    "        \n",
    "    # Aggregate models using federated averaging\n",
    "    trained_model = federated_averaging(models, n_obs_per_client)\n",
    "    init_params = trained_model.state_dict()"
   ]
  },
  {
   "cell_type": "markdown",
   "metadata": {
    "id": "0gz_IRXHOL_L"
   },
   "source": [
    "## Results visualization\n",
    "Using the final parameters we can evaluate the performance of the model by visualizing the testing set onto the latent space."
   ]
  },
  {
   "cell_type": "code",
   "execution_count": 16,
   "metadata": {
    "id": "-yNMU8hoPGjV"
   },
   "outputs": [],
   "source": [
    "import numpy as np\n",
    "import pandas as pd\n",
    "\n",
    "import seaborn as sns\n",
    "import matplotlib.pyplot as plt\n",
    "\n",
    "sns.set()"
   ]
  },
  {
   "cell_type": "markdown",
   "metadata": {
    "id": "KNQAiUlBIq5v"
   },
   "source": [
    "Here we store in a list the deconding weights estimated for each modality. \n",
    "**We are interested in the decoding weights corresponding to each dimmension of the latent space $Z_i$**."
   ]
  },
  {
   "cell_type": "code",
   "execution_count": 17,
   "metadata": {
    "id": "nuf5HBQe4RSv"
   },
   "outputs": [],
   "source": [
    "decoding_weights_dict = {k: w.detach().numpy() for k, w in trained_model.state_dict().items() if 'W_out.weight' in k}"
   ]
  },
  {
   "cell_type": "code",
   "execution_count": 18,
   "metadata": {},
   "outputs": [
    {
     "data": {
      "text/html": [
       "<div>\n",
       "<style scoped>\n",
       "    .dataframe tbody tr th:only-of-type {\n",
       "        vertical-align: middle;\n",
       "    }\n",
       "\n",
       "    .dataframe tbody tr th {\n",
       "        vertical-align: top;\n",
       "    }\n",
       "\n",
       "    .dataframe thead th {\n",
       "        text-align: right;\n",
       "    }\n",
       "</style>\n",
       "<table border=\"1\" class=\"dataframe\">\n",
       "  <thead>\n",
       "    <tr style=\"text-align: right;\">\n",
       "      <th></th>\n",
       "      <th>$Z_{0}$</th>\n",
       "      <th>biomarker</th>\n",
       "      <th>channel</th>\n",
       "    </tr>\n",
       "  </thead>\n",
       "  <tbody>\n",
       "    <tr>\n",
       "      <td>0</td>\n",
       "      <td>-0.243616</td>\n",
       "      <td>WholeBrain.bl</td>\n",
       "      <td>1</td>\n",
       "    </tr>\n",
       "    <tr>\n",
       "      <td>1</td>\n",
       "      <td>0.189885</td>\n",
       "      <td>Ventricles.bl</td>\n",
       "      <td>1</td>\n",
       "    </tr>\n",
       "    <tr>\n",
       "      <td>2</td>\n",
       "      <td>-0.321737</td>\n",
       "      <td>Hippocampus.bl</td>\n",
       "      <td>1</td>\n",
       "    </tr>\n",
       "    <tr>\n",
       "      <td>3</td>\n",
       "      <td>-0.276269</td>\n",
       "      <td>MidTemp.bl</td>\n",
       "      <td>1</td>\n",
       "    </tr>\n",
       "    <tr>\n",
       "      <td>4</td>\n",
       "      <td>-0.290797</td>\n",
       "      <td>Entorhinal.bl</td>\n",
       "      <td>1</td>\n",
       "    </tr>\n",
       "  </tbody>\n",
       "</table>\n",
       "</div>"
      ],
      "text/plain": [
       "    $Z_{0}$       biomarker  channel\n",
       "0 -0.243616   WholeBrain.bl        1\n",
       "1  0.189885   Ventricles.bl        1\n",
       "2 -0.321737  Hippocampus.bl        1\n",
       "3 -0.276269      MidTemp.bl        1\n",
       "4 -0.290797   Entorhinal.bl        1"
      ]
     },
     "execution_count": 18,
     "metadata": {},
     "output_type": "execute_result"
    }
   ],
   "source": [
    "lat_dim_names = [f'$Z_{{{i}}}$' for i in range(lat_dim)]\n",
    "col_names = lat_dim_names + [\"biomarker\"]\n",
    "weights = pd.DataFrame()\n",
    "\n",
    "channels = get_channels()\n",
    "\n",
    "for channel_i, weights_i in enumerate(decoding_weights_dict.values()):\n",
    "\n",
    "    channel_df = pd.DataFrame(np.concatenate((weights_i, np.array(channels[channel_i]).reshape(-1, 1)), axis=1), \n",
    "        columns=lat_dim_names + [\"biomarker\"])\n",
    "    channel_df['channel'] = channel_i + 1\n",
    "    \n",
    "\n",
    "    weights = weights.append(channel_df, ignore_index=True)\n",
    "\n",
    "weights[\"$Z_{0}$\"] = weights[\"$Z_{0}$\"].astype('float32')\n",
    "weights.head()"
   ]
  },
  {
   "cell_type": "markdown",
   "metadata": {
    "id": "qfuDyCFhNhdI"
   },
   "source": [
    "We prepare the dataset in a form so it is easily visualizable."
   ]
  },
  {
   "cell_type": "code",
   "execution_count": 19,
   "metadata": {
    "colab": {
     "base_uri": "https://localhost:8080/",
     "height": 80
    },
    "id": "fDcaqWnCG5me",
    "outputId": "39b941cd-c796-4f77-91fd-2d2c9fc1d65c"
   },
   "outputs": [
    {
     "data": {
      "text/html": [
       "<div>\n",
       "<style scoped>\n",
       "    .dataframe tbody tr th:only-of-type {\n",
       "        vertical-align: middle;\n",
       "    }\n",
       "\n",
       "    .dataframe tbody tr th {\n",
       "        vertical-align: top;\n",
       "    }\n",
       "\n",
       "    .dataframe thead th {\n",
       "        text-align: right;\n",
       "    }\n",
       "</style>\n",
       "<table border=\"1\" class=\"dataframe\">\n",
       "  <thead>\n",
       "    <tr style=\"text-align: right;\">\n",
       "      <th></th>\n",
       "      <th>biomarker</th>\n",
       "      <th>channel</th>\n",
       "      <th>latent_var</th>\n",
       "      <th>value</th>\n",
       "    </tr>\n",
       "  </thead>\n",
       "  <tbody>\n",
       "    <tr>\n",
       "      <td>17</td>\n",
       "      <td>PTAU.MEDIAN.bl</td>\n",
       "      <td>5</td>\n",
       "      <td>$Z_{0}$</td>\n",
       "      <td>0.16061</td>\n",
       "    </tr>\n",
       "  </tbody>\n",
       "</table>\n",
       "</div>"
      ],
      "text/plain": [
       "         biomarker  channel latent_var    value\n",
       "17  PTAU.MEDIAN.bl        5    $Z_{0}$  0.16061"
      ]
     },
     "execution_count": 19,
     "metadata": {},
     "output_type": "execute_result"
    }
   ],
   "source": [
    "weights_melt = weights.melt(id_vars=['biomarker', 'channel'], var_name='latent_var')\n",
    "weights_melt.sample()"
   ]
  },
  {
   "cell_type": "code",
   "execution_count": 20,
   "metadata": {},
   "outputs": [
    {
     "data": {
      "text/html": [
       "<div>\n",
       "<style scoped>\n",
       "    .dataframe tbody tr th:only-of-type {\n",
       "        vertical-align: middle;\n",
       "    }\n",
       "\n",
       "    .dataframe tbody tr th {\n",
       "        vertical-align: top;\n",
       "    }\n",
       "\n",
       "    .dataframe thead th {\n",
       "        text-align: right;\n",
       "    }\n",
       "</style>\n",
       "<table border=\"1\" class=\"dataframe\">\n",
       "  <thead>\n",
       "    <tr style=\"text-align: right;\">\n",
       "      <th></th>\n",
       "      <th>$Z_{0}$</th>\n",
       "      <th>biomarker</th>\n",
       "      <th>channel</th>\n",
       "    </tr>\n",
       "  </thead>\n",
       "  <tbody>\n",
       "    <tr>\n",
       "      <td>0</td>\n",
       "      <td>-0.243616</td>\n",
       "      <td>WholeBrain.bl</td>\n",
       "      <td>1</td>\n",
       "    </tr>\n",
       "    <tr>\n",
       "      <td>1</td>\n",
       "      <td>0.189885</td>\n",
       "      <td>Ventricles.bl</td>\n",
       "      <td>1</td>\n",
       "    </tr>\n",
       "    <tr>\n",
       "      <td>2</td>\n",
       "      <td>-0.321737</td>\n",
       "      <td>Hippocampus.bl</td>\n",
       "      <td>1</td>\n",
       "    </tr>\n",
       "    <tr>\n",
       "      <td>3</td>\n",
       "      <td>-0.276269</td>\n",
       "      <td>MidTemp.bl</td>\n",
       "      <td>1</td>\n",
       "    </tr>\n",
       "    <tr>\n",
       "      <td>4</td>\n",
       "      <td>-0.290797</td>\n",
       "      <td>Entorhinal.bl</td>\n",
       "      <td>1</td>\n",
       "    </tr>\n",
       "    <tr>\n",
       "      <td>5</td>\n",
       "      <td>-0.103445</td>\n",
       "      <td>SEX</td>\n",
       "      <td>2</td>\n",
       "    </tr>\n",
       "    <tr>\n",
       "      <td>6</td>\n",
       "      <td>0.143066</td>\n",
       "      <td>AGE</td>\n",
       "      <td>2</td>\n",
       "    </tr>\n",
       "    <tr>\n",
       "      <td>7</td>\n",
       "      <td>-0.102563</td>\n",
       "      <td>PTEDUCAT</td>\n",
       "      <td>2</td>\n",
       "    </tr>\n",
       "    <tr>\n",
       "      <td>8</td>\n",
       "      <td>0.274100</td>\n",
       "      <td>CDRSB.bl</td>\n",
       "      <td>3</td>\n",
       "    </tr>\n",
       "    <tr>\n",
       "      <td>9</td>\n",
       "      <td>0.328286</td>\n",
       "      <td>ADAS11.bl</td>\n",
       "      <td>3</td>\n",
       "    </tr>\n",
       "    <tr>\n",
       "      <td>10</td>\n",
       "      <td>-0.306241</td>\n",
       "      <td>MMSE.bl</td>\n",
       "      <td>3</td>\n",
       "    </tr>\n",
       "    <tr>\n",
       "      <td>11</td>\n",
       "      <td>-0.310553</td>\n",
       "      <td>RAVLT.immediate.bl</td>\n",
       "      <td>3</td>\n",
       "    </tr>\n",
       "    <tr>\n",
       "      <td>12</td>\n",
       "      <td>-0.244175</td>\n",
       "      <td>RAVLT.learning.bl</td>\n",
       "      <td>3</td>\n",
       "    </tr>\n",
       "    <tr>\n",
       "      <td>13</td>\n",
       "      <td>0.070348</td>\n",
       "      <td>RAVLT.forgetting.bl</td>\n",
       "      <td>3</td>\n",
       "    </tr>\n",
       "    <tr>\n",
       "      <td>14</td>\n",
       "      <td>0.272759</td>\n",
       "      <td>FAQ.bl</td>\n",
       "      <td>3</td>\n",
       "    </tr>\n",
       "    <tr>\n",
       "      <td>15</td>\n",
       "      <td>0.180560</td>\n",
       "      <td>APOE4</td>\n",
       "      <td>4</td>\n",
       "    </tr>\n",
       "    <tr>\n",
       "      <td>16</td>\n",
       "      <td>-0.268966</td>\n",
       "      <td>ABETA.MEDIAN.bl</td>\n",
       "      <td>5</td>\n",
       "    </tr>\n",
       "    <tr>\n",
       "      <td>17</td>\n",
       "      <td>0.160610</td>\n",
       "      <td>PTAU.MEDIAN.bl</td>\n",
       "      <td>5</td>\n",
       "    </tr>\n",
       "    <tr>\n",
       "      <td>18</td>\n",
       "      <td>0.220941</td>\n",
       "      <td>TAU.MEDIAN.bl</td>\n",
       "      <td>5</td>\n",
       "    </tr>\n",
       "  </tbody>\n",
       "</table>\n",
       "</div>"
      ],
      "text/plain": [
       "     $Z_{0}$            biomarker  channel\n",
       "0  -0.243616        WholeBrain.bl        1\n",
       "1   0.189885        Ventricles.bl        1\n",
       "2  -0.321737       Hippocampus.bl        1\n",
       "3  -0.276269           MidTemp.bl        1\n",
       "4  -0.290797        Entorhinal.bl        1\n",
       "5  -0.103445                  SEX        2\n",
       "6   0.143066                  AGE        2\n",
       "7  -0.102563             PTEDUCAT        2\n",
       "8   0.274100             CDRSB.bl        3\n",
       "9   0.328286            ADAS11.bl        3\n",
       "10 -0.306241              MMSE.bl        3\n",
       "11 -0.310553   RAVLT.immediate.bl        3\n",
       "12 -0.244175    RAVLT.learning.bl        3\n",
       "13  0.070348  RAVLT.forgetting.bl        3\n",
       "14  0.272759               FAQ.bl        3\n",
       "15  0.180560                APOE4        4\n",
       "16 -0.268966      ABETA.MEDIAN.bl        5\n",
       "17  0.160610       PTAU.MEDIAN.bl        5\n",
       "18  0.220941        TAU.MEDIAN.bl        5"
      ]
     },
     "execution_count": 20,
     "metadata": {},
     "output_type": "execute_result"
    }
   ],
   "source": [
    "weights"
   ]
  },
  {
   "cell_type": "code",
   "execution_count": 21,
   "metadata": {
    "colab": {
     "base_uri": "https://localhost:8080/",
     "height": 1000
    },
    "id": "ym8Yt8Jp80EL",
    "outputId": "adc65776-fdf6-45ef-ade1-6ad025a8193f"
   },
   "outputs": [
    {
     "data": {
      "image/png": "[encoded data removed]",
      "text/plain": [
       "<Figure size 969.8x1800 with 5 Axes>"
      ]
     },
     "metadata": {},
     "output_type": "display_data"
    }
   ],
   "source": [
    "sns.catplot(data=weights_melt, x='biomarker', y='value', hue='latent_var', kind='bar', col='channel', col_wrap=1, aspect=2.5, sharex=False, palette='Blues_r')\n",
    "plt.show()"
   ]
  },
  {
   "cell_type": "code",
   "execution_count": null,
   "metadata": {},
   "outputs": [],
   "source": []
  }
 ],
 "metadata": {
  "colab": {
   "collapsed_sections": [],
   "name": "federated-mcvae-adni.ipynb",
   "provenance": []
  },
  "kernelspec": {
   "display_name": "Python 3",
   "language": "python",
   "name": "python3"
  },
  "language_info": {
   "codemirror_mode": {
    "name": "ipython",
    "version": 3
   },
   "file_extension": ".py",
   "mimetype": "text/x-python",
   "name": "python",
   "nbconvert_exporter": "python",
   "pygments_lexer": "ipython3",
   "version": "3.8.5"
  }
 },
 "nbformat": 4,
 "nbformat_minor": 4
}
