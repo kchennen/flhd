{
 "cells": [
  {
   "cell_type": "code",
   "execution_count": 1,
   "metadata": {
    "colab": {
     "base_uri": "https://localhost:8080/"
    },
    "id": "tPXXCyu2bqbd",
    "outputId": "2892be0f-4717-4bd8-901d-bc17ffbea518"
   },
   "outputs": [
    {
     "name": "stdout",
     "output_type": "stream",
     "text": [
      "Cloning into 'mcvae'...\n",
      "remote: Enumerating objects: 359, done.\u001b[K\n",
      "remote: Counting objects: 100% (359/359), done.\u001b[K\n",
      "remote: Compressing objects: 100% (224/224), done.\u001b[K\n",
      "remote: Total 359 (delta 160), reused 296 (delta 114), pack-reused 0\u001b[K\n",
      "Receiving objects: 100% (359/359), 4.72 MiB | 5.55 MiB/s, done.\n",
      "Resolving deltas: 100% (160/160), done.\n",
      "Checking connectivity... done.\n"
     ]
    }
   ],
   "source": [
    "## Uncomment the following lines to set up the python environment\n",
    "## Probably not needed depending on where you are running this notebook\n",
    "\n",
    "#!pip install torch\n",
    "#!pip install nilearn\n",
    "#!pip install nibabel\n",
    "#!pip install pandas\n",
    "#!pip install sklearn\n",
    "#!pip install matplotlib\n",
    "#!pip install numpy\n",
    "#!pip install torch torchvision\n",
    " \n",
    "!git clone https://gitlab.inria.fr/epione_ML/mcvae.git"
   ]
  },
  {
   "cell_type": "code",
   "execution_count": 2,
   "metadata": {
    "colab": {
     "base_uri": "https://localhost:8080/"
    },
    "id": "u20pHm5vcDiv",
    "outputId": "f9ea8cb0-a28b-4df3-a1f0-712d413b2cf0"
   },
   "outputs": [
    {
     "name": "stdout",
     "output_type": "stream",
     "text": [
      "2.0.0\n"
     ]
    }
   ],
   "source": [
    "import sys\n",
    "import os\n",
    "sys.path.append(os.getcwd() + '/mcvae/src/')\n",
    "import mcvae\n",
    "print(mcvae.__version__)"
   ]
  },
  {
   "cell_type": "code",
   "execution_count": 3,
   "metadata": {
    "id": "mMBgdh3wbE5f"
   },
   "outputs": [],
   "source": [
    "import numpy as np\n",
    "import matplotlib.pyplot as plt\n",
    "%matplotlib inline\n",
    "from sklearn.cross_decomposition import PLSCanonical, CCA"
   ]
  },
  {
   "cell_type": "markdown",
   "metadata": {
    "id": "rVQtzHTfbE5k"
   },
   "source": [
    "# Random data generation"
   ]
  },
  {
   "cell_type": "markdown",
   "metadata": {
    "id": "2AAaOAR8LMg_"
   },
   "source": [
    "Our journey in the analysis of heterogeneous data starts with the generation of synthetic data. We first need to generate multivarite correlated random variables X and Y. To do so, we rely on the generative model we have seen during lesson:\n",
    "\n",
    "$$ z\\sim\\mathcal{N}(0,1),$$\n",
    "$$ X = z w_x,$$\n",
    "$$ Y = z w_y.$$\n"
   ]
  },
  {
   "cell_type": "code",
   "execution_count": 4,
   "metadata": {
    "colab": {
     "base_uri": "https://localhost:8080/"
    },
    "id": "bG3wSWgxbE5l",
    "outputId": "704e0428-2a8f-4a20-8e51-ce50b9c9dbf7"
   },
   "outputs": [
    {
     "name": "stdout",
     "output_type": "stream",
     "text": [
      "The latent space has dimension (500, 2)\n",
      "The transformation for X has dimension (2, 5)\n",
      "The transformation for Y has dimension (2, 5)\n",
      "X has dimension (500, 5)\n",
      "Y has dimension (500, 5)\n"
     ]
    }
   ],
   "source": [
    "# #############################################################################\n",
    "\n",
    "# N subjects\n",
    "n = 500\n",
    "# here we define 2 Gaussian latents variables z = (l_1, l_2)\n",
    "np.random.seed(42)\n",
    "l1 = np.random.normal(size=n)\n",
    "l2 = np.random.normal(size=n)\n",
    "\n",
    "latents = np.array([l1, l2]).T\n",
    "\n",
    "# We define two random transformations from the latent space to the space of X and Y respectively\n",
    "transform_x = np.random.randint(-8,8, size = 10).reshape([2,5])\n",
    "transform_y = np.random.randint(-8,8, size = 10).reshape([2,5])\n",
    "\n",
    "# We compute data X = z w_x, and Y = z w_y\n",
    "X = latents.dot(transform_x) \n",
    "Y = latents.dot(transform_y) \n",
    "\n",
    "# We add some random Gaussian noise\n",
    "X = X + 2*np.random.normal(size = n*5).reshape((n, 5))\n",
    "Y = Y + 2*np.random.normal(size = n*5).reshape((n, 5))\n",
    "\n",
    "\n",
    "print('The latent space has dimension ' + str(latents.shape))\n",
    "print('The transformation for X has dimension ' + str(transform_x.shape))\n",
    "print('The transformation for Y has dimension ' + str(transform_y.shape))\n",
    "\n",
    "print('X has dimension ' + str(X.shape))\n",
    "print('Y has dimension ' + str(Y.shape))\n"
   ]
  },
  {
   "cell_type": "code",
   "execution_count": 5,
   "metadata": {
    "colab": {
     "base_uri": "https://localhost:8080/",
     "height": 312
    },
    "id": "pcRdsd30bE5p",
    "outputId": "f9165fc6-5b03-4e3b-e2cb-f4f892612c48"
   },
   "outputs": [
    {
     "data": {
      "text/plain": [
       "[]"
      ]
     },
     "execution_count": 5,
     "metadata": {},
     "output_type": "execute_result"
    },
    {
     "data": {
      "image/png": "[encoded data removed]",
      "text/plain": [
       "<Figure size 432x288 with 1 Axes>"
      ]
     },
     "metadata": {
      "needs_background": "light"
     },
     "output_type": "display_data"
    }
   ],
   "source": [
    "dimension_to_plot = 0\n",
    "\n",
    "plt.scatter(X[:,1], Y[:,2])\n",
    "plt.xlabel('dimension X' + str(dimension_to_plot))\n",
    "plt.ylabel('dimension Y' + str(dimension_to_plot))\n",
    "plt.title('Generated data')\n",
    "plt.plot()"
   ]
  },
  {
   "cell_type": "markdown",
   "metadata": {
    "id": "ZNaARJBCbE5t"
   },
   "source": [
    "## PLS and scikit-learn: basic use\n",
    "\n",
    "\n",
    "Our newly generated data can be already used to test the PLS and CCA provided by standard machie learning packages, such as scikit-learn."
   ]
  },
  {
   "cell_type": "code",
   "execution_count": 6,
   "metadata": {
    "id": "16_ywJcXbE5u"
   },
   "outputs": [],
   "source": [
    "##########################################################\n",
    "# We first split the data in trainig and validation sets\n",
    "\n",
    "# The training set is composed by a random sample of dimension N/2 \n",
    "train_idx = np.random.choice(range(X.shape[0]), size = int(X.shape[0]/2), replace = False)\n",
    "X_train = X[train_idx, :]\n",
    "\n",
    "# The testing set is composed by the remaining subjects\n",
    "test_idx = np.where(np.in1d(range(X.shape[0]), train_idx, assume_unique =True, invert = True))[0]\n",
    "X_test = X[test_idx, :]\n",
    "\n",
    "# We reuse the same indices to split the data Y\n",
    "Y_train = Y[train_idx, :]\n",
    "Y_test = Y[test_idx, :]\n"
   ]
  },
  {
   "cell_type": "code",
   "execution_count": 7,
   "metadata": {
    "id": "t345T9XybE5w"
   },
   "outputs": [],
   "source": [
    "#######################################\n",
    "# We fit PLS as provided by scikit-learn\n",
    "\n",
    "#Defining PLS object\n",
    "plsca = PLSCanonical(n_components=2)\n",
    "\n",
    "#Fitting on train data\n",
    "plsca.fit(X_train, Y_train)\n",
    "\n",
    "#We project the training data in the latent dimension\n",
    "X_train_r, Y_train_r = plsca.transform(X_train, Y_train)\n",
    "#We project the testing data in the latent dimension\n",
    "X_test_r, Y_test_r = plsca.transform(X_test, Y_test)"
   ]
  },
  {
   "cell_type": "markdown",
   "metadata": {
    "id": "Dno-YefGU1cK"
   },
   "source": [
    "We note that the projections in the latent space retrieved by PLS are indeed correlated. The different dimensions of the projections are however uncorrelated. "
   ]
  },
  {
   "cell_type": "code",
   "execution_count": 8,
   "metadata": {
    "colab": {
     "base_uri": "https://localhost:8080/",
     "height": 513
    },
    "id": "5AUG_6iKbE50",
    "outputId": "30a87456-e9d9-46ed-96e7-dbd06be1084b"
   },
   "outputs": [
    {
     "data": {
      "image/png": "[encoded data removed]",
      "text/plain": [
       "<Figure size 864x576 with 4 Axes>"
      ]
     },
     "metadata": {
      "needs_background": "light"
     },
     "output_type": "display_data"
    }
   ],
   "source": [
    "# Scatter plot of scores\n",
    "# ~~~~~~~~~~~~~~~~~~~~~~\n",
    "# 1) On diagonal plot X vs Y scores on each components\n",
    "plt.figure(figsize=(12, 8))\n",
    "plt.subplot(221)\n",
    "plt.scatter(X_train_r[:, 0], Y_train_r[:, 0], label=\"train\",\n",
    "            marker=\"o\", c=\"b\", s=25)\n",
    "plt.scatter(X_test_r[:, 0], Y_test_r[:, 0], label=\"test\",\n",
    "            marker=\"o\", c=\"r\", s=25)\n",
    "plt.xlabel(\"x scores\")\n",
    "plt.ylabel(\"y scores\")\n",
    "plt.title('Comp. 1: X vs Y (test corr = %.2f)' %\n",
    "          np.corrcoef(X_test_r[:, 0], Y_test_r[:, 0])[0, 1])\n",
    "\n",
    "plt.legend(loc=\"best\")\n",
    "\n",
    "plt.subplot(224)\n",
    "plt.scatter(X_train_r[:, 1], Y_train_r[:, 1], label=\"train\",\n",
    "            marker=\"o\", c=\"b\", s=25)\n",
    "plt.scatter(X_test_r[:, 1], Y_test_r[:, 1], label=\"test\",\n",
    "            marker=\"o\", c=\"r\", s=25)\n",
    "plt.xlabel(\"x scores\")\n",
    "plt.ylabel(\"y scores\")\n",
    "plt.title('Comp. 2: X vs Y (test corr = %.2f)' %\n",
    "          np.corrcoef(X_test_r[:, 1], Y_test_r[:, 1])[0, 1])\n",
    "\n",
    "plt.legend(loc=\"best\")\n",
    "\n",
    "# 2) Off diagonal plot components 1 vs 2 for X and Y\n",
    "plt.subplot(222)\n",
    "plt.scatter(X_train_r[:, 0], X_train_r[:, 1], label=\"train\",\n",
    "            marker=\"*\", c=\"b\", s=50)\n",
    "plt.scatter(X_test_r[:, 0], X_test_r[:, 1], label=\"test\",\n",
    "            marker=\"*\", c=\"r\", s=50)\n",
    "plt.xlabel(\"X comp. 1\")\n",
    "plt.ylabel(\"X comp. 2\")\n",
    "plt.title('X comp. 1 vs X comp. 2 (test corr = %.2f)'\n",
    "          % np.corrcoef(X_test_r[:, 0], X_test_r[:, 1])[0, 1])\n",
    "plt.legend(loc=\"best\")\n",
    "\n",
    "\n",
    "\n",
    "plt.subplot(223)\n",
    "plt.scatter(Y_train_r[:, 0], Y_train_r[:, 1], label=\"train\",\n",
    "            marker=\"*\", c=\"b\", s=50)\n",
    "plt.scatter(Y_test_r[:, 0], Y_test_r[:, 1], label=\"test\",\n",
    "            marker=\"*\", c=\"r\", s=50)\n",
    "plt.xlabel(\"Y comp. 1\")\n",
    "plt.ylabel(\"Y comp. 2\")\n",
    "plt.title('Y comp. 1 vs Y comp. 2 , (test corr = %.2f)'\n",
    "          % np.corrcoef(Y_test_r[:, 0], Y_test_r[:, 1])[0, 1])\n",
    "plt.legend(loc=\"best\")\n",
    "\n",
    "plt.show()\n"
   ]
  },
  {
   "cell_type": "code",
   "execution_count": 9,
   "metadata": {
    "colab": {
     "base_uri": "https://localhost:8080/"
    },
    "id": "CjqjEnG8XDwU",
    "outputId": "54c87f16-3016-45fb-92f8-a8691ce46e60"
   },
   "outputs": [
    {
     "name": "stdout",
     "output_type": "stream",
     "text": [
      "X projections: \n",
      "[[ 0.48433579 -0.25654367]\n",
      " [-0.51415729  0.28837788]\n",
      " [ 0.57083361  0.41523051]\n",
      " [-0.1600194   0.72474008]\n",
      " [-0.38678665 -0.39161076]]\n",
      "Y projections: \n",
      "[[ 0.36148438  0.39913339]\n",
      " [-0.39571466  0.70730378]\n",
      " [ 0.49905721 -0.35689321]\n",
      " [-0.48904463 -0.31141709]\n",
      " [-0.4738314  -0.34067659]]\n"
     ]
    }
   ],
   "source": [
    "#We can check the estimated projections\n",
    "print('X projections: \\n' + str(plsca.x_weights_))\n",
    "\n",
    "print('Y projections: \\n' + str(plsca.y_weights_))"
   ]
  },
  {
   "cell_type": "code",
   "execution_count": 10,
   "metadata": {
    "colab": {
     "base_uri": "https://localhost:8080/",
     "height": 279
    },
    "id": "cl0QGQPWXFcJ",
    "outputId": "cad6ed96-edb0-44b0-deec-2a1e6c9c59a5"
   },
   "outputs": [
    {
     "data": {
      "image/png": "[encoded data removed]",
      "text/plain": [
       "<Figure size 432x288 with 1 Axes>"
      ]
     },
     "metadata": {
      "needs_background": "light"
     },
     "output_type": "display_data"
    }
   ],
   "source": [
    "# We can also predict Y from X\n",
    "\n",
    "predicted_Y_test = plsca.predict(X_test)\n",
    "\n",
    "plt.scatter(predicted_Y_test[:,dimension_to_plot], Y_test[:,dimension_to_plot])\n",
    "plt.ylabel('target Y' + str(dimension_to_plot))\n",
    "plt.xlabel('predicted Y' + str(dimension_to_plot))\n",
    "\n",
    "plt.show()\n"
   ]
  },
  {
   "cell_type": "code",
   "execution_count": 11,
   "metadata": {
    "colab": {
     "base_uri": "https://localhost:8080/",
     "height": 279
    },
    "id": "ZnyDB4o_TPk8",
    "outputId": "08b94491-14d7-44e5-bc38-7ca0551b81cf"
   },
   "outputs": [
    {
     "data": {
      "image/png": "[encoded data removed]",
      "text/plain": [
       "<Figure size 432x288 with 1 Axes>"
      ]
     },
     "metadata": {
      "needs_background": "light"
     },
     "output_type": "display_data"
    }
   ],
   "source": [
    "# Prediction for the training data\n",
    "\n",
    "predicted_Y_train = plsca.predict(X_train)\n",
    "\n",
    "plt.scatter(predicted_Y_train[:,dimension_to_plot], Y_train[:,dimension_to_plot])\n",
    "plt.ylabel('target Y' + str(dimension_to_plot))\n",
    "plt.xlabel('predicted Y' + str(dimension_to_plot))\n",
    "\n",
    "plt.show()"
   ]
  },
  {
   "cell_type": "code",
   "execution_count": 12,
   "metadata": {
    "colab": {
     "base_uri": "https://localhost:8080/"
    },
    "id": "j-QCTnYPTjbr",
    "outputId": "c19944cc-a706-49b0-e19d-a77f9c056754"
   },
   "outputs": [
    {
     "name": "stdout",
     "output_type": "stream",
     "text": [
      "X projections with 2 components: \n",
      "[[ 0.48433579 -0.25654367]\n",
      " [-0.51415729  0.28837788]\n",
      " [ 0.57083361  0.41523051]\n",
      " [-0.1600194   0.72474008]\n",
      " [-0.38678665 -0.39161076]]\n",
      "Y projections with 2 components: \n",
      "[[ 0.36148438  0.39913339]\n",
      " [-0.39571466  0.70730378]\n",
      " [ 0.49905721 -0.35689321]\n",
      " [-0.48904463 -0.31141709]\n",
      " [-0.4738314  -0.34067659]]\n",
      "X projections with 4 components: \n",
      "[[ 0.48433579 -0.25654367 -0.42402831  0.54660349]\n",
      " [-0.51415729  0.28837788  0.30201819  0.74306133]\n",
      " [ 0.57083361  0.41523051  0.64183921 -0.06465157]\n",
      " [-0.1600194   0.72474008 -0.51490022 -0.22931801]\n",
      " [-0.38678665 -0.39161076  0.22782708 -0.30383862]]\n",
      "Y projections with 4 components: \n",
      "[[ 0.36148438  0.39913339 -0.5105896   0.60783454]\n",
      " [-0.39571466  0.70730378  0.48505202  0.26714451]\n",
      " [ 0.49905721 -0.35689321  0.58283628  0.50546537]\n",
      " [-0.48904463 -0.31141709  0.17782666  0.30291833]\n",
      " [-0.4738314  -0.34067659 -0.36428334  0.46034359]]\n"
     ]
    }
   ],
   "source": [
    "plsca_4 = PLSCanonical(n_components=4)\n",
    "plsca_4.fit(X_train, Y_train)\n",
    "\n",
    "predicted_Y_train = plsca_4.predict(X_train)\n",
    "\n",
    "print('X projections with 2 components: \\n' + str(plsca.x_weights_))\n",
    "\n",
    "print('Y projections with 2 components: \\n' + str(plsca.y_weights_))\n",
    "\n",
    "print('X projections with 4 components: \\n' + str(plsca_4.x_weights_))\n",
    "\n",
    "print('Y projections with 4 components: \\n' + str(plsca_4.y_weights_))\n"
   ]
  },
  {
   "cell_type": "markdown",
   "metadata": {
    "id": "B3ZbgFhibE53"
   },
   "source": [
    "# Into the guts of latent variable models\n",
    "\n",
    "After playing with the builti-in implementation of PLS in scikit-learn, we are going to implement our own version based on the NIPALS method.\n",
    "\n",
    "## NIPALS for PLS"
   ]
  },
  {
   "cell_type": "code",
   "execution_count": 13,
   "metadata": {
    "id": "Wi2jt1O0bE54"
   },
   "outputs": [],
   "source": [
    "# Nipals method for PLS\n",
    "\n",
    "n_components = 3\n",
    "\n",
    "\n",
    "# Defining empty arrays where to store results\n",
    "\n",
    "# Reconstruction from latent space to data\n",
    "loading_x = np.ndarray([X.shape[1],n_components])\n",
    "loading_y = np.ndarray([Y.shape[1],n_components])\n",
    "\n",
    "# Projections into the latent space\n",
    "weight_x = np.ndarray([X.shape[1],n_components])\n",
    "weight_y = np.ndarray([Y.shape[1],n_components])\n",
    "\n",
    "# Latent variables\n",
    "scores_x = np.ndarray([X.shape[0],n_components])\n",
    "scores_y = np.ndarray([Y.shape[0],n_components])\n",
    "\n",
    "\n",
    "# Initialization of data matrices\n",
    "current_X = X\n",
    "current_Y = Y\n",
    "\n",
    "for i in range(n_components):\n",
    "    # Initialization of current latent variables as a data column\n",
    "    t_x = current_X[:,0]\n",
    "\n",
    "    # NIPALS iterations\n",
    "    for _ in range(100):\n",
    "        # estimating Y weights given data Y and latent variables from X\n",
    "        w_y = current_Y.transpose().dot(t_x)/(t_x.transpose().dot(t_x))\n",
    "        # normalizing Y weights\n",
    "        w_y = w_y/np.sqrt(np.sum(w_y**2))\n",
    "\n",
    "        # estimating latent variables from Y given data Y and Y weights\n",
    "        t_y = current_Y.dot(w_y)\n",
    "        # estimating X weights given data X and latent variables from Y\n",
    "        w_x = current_X.transpose().dot(t_y)/(t_y.transpose().dot(t_y))\n",
    "        # normalizing X weights\n",
    "        w_x = w_x/np.sqrt(np.sum(w_x**2))\n",
    "\n",
    "        # estimating latent variables from X given data X and X weights\n",
    "        t_x = current_X.dot(w_x)\n",
    "\n",
    "    # Weights are such that X * weights = t\n",
    "    weight_x[:,i] = w_x\n",
    "    weight_y[:,i] = w_y\n",
    "    \n",
    "    # Latent variables\n",
    "    scores_x[:,i] = t_x\n",
    "    scores_x[:,i] = t_y\n",
    "    \n",
    "    # Loadings obtained by regressing X on t (X = t * loadings)\n",
    "    \n",
    "    loading_x[:,i] = np.dot(current_X.T, t_x)/t_x.transpose().dot(t_x) \n",
    "    loading_y[:,i] = np.dot(current_Y.T, t_y)/t_y.transpose().dot(t_y)\n",
    "    \n",
    "    # Deflation = current_data - current_reconstruction\n",
    "    \n",
    "    current_X = current_X - t_x.reshape(len(t_x),1).dot(w_x.reshape(1,len(w_x)))\n",
    "    current_Y = current_Y - t_y.reshape(len(t_y),1).dot(w_y.reshape(1,len(w_y)))\n",
    "    "
   ]
  },
  {
   "cell_type": "code",
   "execution_count": 14,
   "metadata": {
    "colab": {
     "base_uri": "https://localhost:8080/"
    },
    "id": "HuothRrBbE57",
    "outputId": "13735141-da30-4a4a-f60c-2c20035cb340"
   },
   "outputs": [
    {
     "name": "stdout",
     "output_type": "stream",
     "text": [
      "The estimated projections for X are: \n",
      "[[ 0.36753226  0.32695545  0.31901594]\n",
      " [-0.54017132 -0.51142438 -0.13635813]\n",
      " [ 0.73596167 -0.54668695 -0.38095079]\n",
      " [-0.07131382 -0.54068145  0.43213359]\n",
      " [-0.16251074  0.20085364 -0.74011644]]\n",
      "\n",
      " The estimated projections for Y are: \n",
      "[[ 0.22469208 -0.22321827  0.22848154]\n",
      " [-0.42360052 -0.82303817 -0.17028297]\n",
      " [ 0.34143196  0.23277327 -0.37414229]\n",
      " [-0.53070486  0.30658588 -0.6691619 ]\n",
      " [-0.60979721  0.35299218  0.57536058]]\n"
     ]
    }
   ],
   "source": [
    "print('The estimated projections for X are: \\n' + str(weight_x))\n",
    "\n",
    "print('\\n The estimated projections for Y are: \\n' + str(weight_y))"
   ]
  },
  {
   "cell_type": "code",
   "execution_count": 15,
   "metadata": {
    "colab": {
     "base_uri": "https://localhost:8080/",
     "height": 714
    },
    "id": "6Hs_o8NIbE59",
    "outputId": "6cfa2256-147c-4202-cd6d-6ec8ab2b3097"
   },
   "outputs": [
    {
     "data": {
      "image/png": "[encoded data removed]",
      "text/plain": [
       "<Figure size 864x864 with 6 Axes>"
      ]
     },
     "metadata": {
      "needs_background": "light"
     },
     "output_type": "display_data"
    }
   ],
   "source": [
    "plt.figure(figsize=(12, 12))\n",
    "plt.subplot(3,2,1)\n",
    "plt.scatter(scores_x[:,0], latents[:,0])\n",
    "plt.xlabel('PLS 0')\n",
    "plt.ylabel('ground truth 0')\n",
    "plt.subplot(3,2,2)\n",
    "plt.scatter(scores_x[:,0], latents[:,1])\n",
    "plt.xlabel('PLS 0')\n",
    "plt.ylabel('ground truth 1')\n",
    "plt.subplot(3,2,3)\n",
    "plt.scatter(scores_x[:,1], latents[:,0])\n",
    "plt.xlabel('PLS 1')\n",
    "plt.ylabel('ground truth 0')\n",
    "plt.subplot(3,2,4)\n",
    "plt.scatter(scores_x[:,1], latents[:,1])\n",
    "plt.xlabel('PLS 1')\n",
    "plt.ylabel('ground truth 1')\n",
    "plt.subplot(3,2,5)\n",
    "plt.scatter(scores_x[:,2], latents[:,0])\n",
    "plt.xlabel('PLS 2')\n",
    "plt.ylabel('ground truth 0')\n",
    "plt.subplot(3,2,6)\n",
    "plt.scatter(scores_x[:,2], latents[:,1])\n",
    "plt.xlabel('PLS 2')\n",
    "plt.ylabel('ground truth 1')\n",
    "plt.show()"
   ]
  },
  {
   "cell_type": "markdown",
   "metadata": {
    "id": "4uQVTVL8bNyt"
   },
   "source": [
    "Once that the PLS parameters are estimated, we can solve the regression problem for predicting Y from X. We adopt the scheme used in scikit-learn, where a rotation matrix is first estimated to accoung for non-cummutativity between projection (weights) and reconstruction (loadings).\n",
    "\n"
   ]
  },
  {
   "cell_type": "code",
   "execution_count": 16,
   "metadata": {
    "id": "gV0N6AqKbE5_"
   },
   "outputs": [],
   "source": [
    "# Identifying rotation from X to t\n",
    "# t_x * loadings_x = X\n",
    "# t_x * loadings_x.T * weight = X * weight \n",
    "# t_x =  X * weight * (loadings_x.T * weight)^-1 = X * rotations_x\n",
    "\n",
    "rotations_x = weight_x.dot(np.linalg.pinv(loading_x.T.dot(weight_x)))\n",
    "\n",
    "# Solving the regression from X to Y\n",
    "# Y = t_x * loadings_y.T\n",
    "# Y = X * rotations_x * loadings_y.T\n",
    "\n",
    "regression_coef = np.dot(rotations_x, loading_y.T)"
   ]
  },
  {
   "cell_type": "code",
   "execution_count": 17,
   "metadata": {
    "colab": {
     "base_uri": "https://localhost:8080/",
     "height": 1000
    },
    "id": "ZKD-C0UobE6D",
    "outputId": "22688fd0-eae9-48b5-a422-a6395e5de483"
   },
   "outputs": [
    {
     "data": {
      "image/png": "[encoded data removed]",
      "text/plain": [
       "<Figure size 864x1296 with 5 Axes>"
      ]
     },
     "metadata": {
      "needs_background": "light"
     },
     "output_type": "display_data"
    }
   ],
   "source": [
    "plt.figure(figsize=(12, 18))\n",
    "for i in range(Y.shape[1]):\n",
    "  plt.subplot(Y.shape[1], 1, i+1)\n",
    "  plt.scatter(X.dot(regression_coef)[:,i], Y[:,i])\n",
    "  plt.xlabel('predicted dimension ' + str(i))\n",
    "  plt.ylabel('target dimension ' + str(i))\n",
    "plt.show()"
   ]
  },
  {
   "cell_type": "code",
   "execution_count": 18,
   "metadata": {
    "id": "2t7WMrrHbE6F"
   },
   "outputs": [],
   "source": [
    "# Comparing with SVD of covariance matrix\n",
    "\n",
    "eig_val_x, eig_vect, eig_val_y = np.linalg.svd(X.transpose().dot(Y))"
   ]
  },
  {
   "cell_type": "code",
   "execution_count": 19,
   "metadata": {
    "colab": {
     "base_uri": "https://localhost:8080/"
    },
    "id": "R30NyLjebE6G",
    "outputId": "d434e472-27f1-4f7d-eadb-17222757088f"
   },
   "outputs": [
    {
     "name": "stdout",
     "output_type": "stream",
     "text": [
      "Eigenvalues for X \n",
      "[[-0.36753226  0.32695545  0.31901594]\n",
      " [ 0.54017132 -0.51142438 -0.13635813]\n",
      " [-0.73596167 -0.54668695 -0.38095079]\n",
      " [ 0.07131382 -0.54068145  0.43213359]\n",
      " [ 0.16251074  0.20085364 -0.74011644]]\n",
      "Estimated weights for X\n",
      "[[ 0.36753226  0.32695545  0.31901594]\n",
      " [-0.54017132 -0.51142438 -0.13635813]\n",
      " [ 0.73596167 -0.54668695 -0.38095079]\n",
      " [-0.07131382 -0.54068145  0.43213359]\n",
      " [-0.16251074  0.20085364 -0.74011644]]\n"
     ]
    }
   ],
   "source": [
    "print('Eigenvalues for X \\n' + str(np.real(eig_val_x[:,:3])))\n",
    "print('Estimated weights for X\\n' + str(np.real(weight_x[:,:3])))"
   ]
  },
  {
   "cell_type": "code",
   "execution_count": 20,
   "metadata": {
    "colab": {
     "base_uri": "https://localhost:8080/"
    },
    "id": "MlmTRN6lbE6I",
    "outputId": "baa1e69e-61e6-43ac-ee9f-e288a1b43533"
   },
   "outputs": [
    {
     "name": "stdout",
     "output_type": "stream",
     "text": [
      "Eigenvalues for Y \n",
      "[[-0.22469208 -0.22321827  0.22848154]\n",
      " [ 0.42360052 -0.82303817 -0.17028297]\n",
      " [-0.34143196  0.23277327 -0.37414229]\n",
      " [ 0.53070486  0.30658588 -0.6691619 ]\n",
      " [ 0.60979721  0.35299218  0.57536058]]\n",
      "Estimated weights for Y\n",
      "[[ 0.22469208 -0.22321827  0.22848154]\n",
      " [-0.42360052 -0.82303817 -0.17028297]\n",
      " [ 0.34143196  0.23277327 -0.37414229]\n",
      " [-0.53070486  0.30658588 -0.6691619 ]\n",
      " [-0.60979721  0.35299218  0.57536058]]\n"
     ]
    }
   ],
   "source": [
    "print('Eigenvalues for Y \\n' + str(np.real(eig_val_y.T[:,:3])))\n",
    "print('Estimated weights for Y\\n' + str(np.real(weight_y[:,:3])))"
   ]
  },
  {
   "cell_type": "code",
   "execution_count": 21,
   "metadata": {
    "colab": {
     "base_uri": "https://localhost:8080/"
    },
    "id": "FfYndKcgbE6J",
    "outputId": "f0316d03-b576-4e73-ae46-0ba00354808f",
    "scrolled": true
   },
   "outputs": [
    {
     "data": {
      "text/plain": [
       "PLSCanonical(n_components=3, scale=False)"
      ]
     },
     "execution_count": 21,
     "metadata": {},
     "output_type": "execute_result"
    }
   ],
   "source": [
    "# PLS in scikit-learn \n",
    "\n",
    "plsca = PLSCanonical(n_components=3, scale = False)\n",
    "plsca.fit(X, Y)"
   ]
  },
  {
   "cell_type": "code",
   "execution_count": 22,
   "metadata": {
    "colab": {
     "base_uri": "https://localhost:8080/"
    },
    "id": "G6e2k9PGbE6L",
    "outputId": "44190583-93b0-41aa-8d51-92573d5b0cd1"
   },
   "outputs": [
    {
     "name": "stdout",
     "output_type": "stream",
     "text": [
      "[[ 0.36745572 -0.32646087 -0.30267791]\n",
      " [-0.5399922   0.51144303  0.11763542]\n",
      " [ 0.73610243  0.54625149  0.37318486]\n",
      " [-0.07130735  0.54144866 -0.38043117]\n",
      " [-0.16264435 -0.20072864  0.78137902]]\n",
      "[[ 0.22485955  0.22212135 -0.2169345 ]\n",
      " [-0.42328296  0.82287418  0.1493648 ]\n",
      " [ 0.34172183 -0.23372426  0.32376757]\n",
      " [-0.53074024 -0.30704996  0.68434385]\n",
      " [-0.60976283 -0.35303468 -0.59789433]]\n"
     ]
    }
   ],
   "source": [
    "print(plsca.x_weights_)\n",
    "print(plsca.y_weights_)"
   ]
  },
  {
   "cell_type": "markdown",
   "metadata": {
    "id": "uAsqNC29bE6N"
   },
   "source": [
    "## NIPALS for CCA"
   ]
  },
  {
   "cell_type": "code",
   "execution_count": 23,
   "metadata": {
    "id": "1CjCX7FtbE6N"
   },
   "outputs": [],
   "source": [
    "import scipy\n",
    "\n",
    "# Nipals method for CCA\n",
    "\n",
    "# Defining empty arrays where to store results\n",
    "\n",
    "# Reconstruction from latent space to data\n",
    "loading_x_cca = np.ndarray([X.shape[1],n_components])\n",
    "loading_y_cca = np.ndarray([Y.shape[1],n_components])\n",
    "\n",
    "# Projections into the latent space\n",
    "scores_x_cca = np.ndarray([X.shape[0],n_components])\n",
    "scores_y_cca = np.ndarray([Y.shape[0],n_components])\n",
    "\n",
    "# Latent variables\n",
    "weight_x_cca = np.ndarray([X.shape[1],n_components])\n",
    "weight_y_cca = np.ndarray([Y.shape[1],n_components])\n",
    "\n",
    "# Initialization of data matrices\n",
    "current_X = X\n",
    "current_Y = Y\n",
    "\n",
    "for i in range(n_components):\n",
    "    # Initialization of current latent variables as a data column\n",
    "    t_x = current_X[:,0]\n",
    "\n",
    "    # NIPALS iterations\n",
    "    for _ in range(500):\n",
    "        ## CCA variant\n",
    "        # estimating Y weights given data Y and latent variables from X\n",
    "        Y_pinv = np.linalg.pinv(current_Y)\n",
    "        #Y_pinv = np.linalg.solve(current_Y.dot(current_Y.T),current_Y).T\n",
    "        w_y = Y_pinv.dot(t_x)\n",
    "\n",
    "        # normalizing Y weights\n",
    "        w_y = w_y/np.sqrt(np.sum(w_y**2))\n",
    "        # estimating latent variables from Y given data Y and Y weights\n",
    "        t_y = current_Y.dot(w_y)\n",
    "\n",
    "        ## CCA variant\n",
    "        # estimating X weights given data X and latent variables from Y\n",
    "        X_pinv = np.linalg.pinv(current_X)\n",
    "        #X_pinv = np.linalg.solve(current_X.dot(current_X.T),current_X).T\n",
    "        w_x = X_pinv.dot(t_y)\n",
    "\n",
    "        # normalizing X weights\n",
    "        w_x = w_x/np.sqrt(np.sum(w_x**2))\n",
    "        # estimating latent variables from X given data X and X weights\n",
    "        t_x = current_X.dot(w_x)\n",
    "\n",
    "        \n",
    "    # Weights are such that X * weights = t\n",
    "    weight_x_cca[:,i] = w_x\n",
    "    weight_y_cca[:,i] = w_y\n",
    "    \n",
    "    # Latent dimensions\n",
    "    scores_x_cca[:,i] = t_x\n",
    "    scores_x_cca[:,i] = t_y\n",
    "    \n",
    "    # Loadings obtained by regressing X on t (X = t * loadings)\n",
    "    \n",
    "    loading_x_cca[:,i] = np.dot(current_X.T, t_x)/t_x.transpose().dot(t_x) \n",
    "    loading_y_cca[:,i] = np.dot(current_Y.T, t_y)/t_y.transpose().dot(t_y)\n",
    "    \n",
    "    # Deflation = current_data - current_reconstruction\n",
    "\n",
    "    current_X = current_X - t_x.reshape(len(t_x),1).dot(w_y.reshape(1,len(w_x)))\n",
    "    current_Y = current_Y - t_y.reshape(len(t_y),1).dot(w_y.reshape(1,len(w_y)))\n",
    "\n",
    " \n"
   ]
  },
  {
   "cell_type": "code",
   "execution_count": 24,
   "metadata": {
    "colab": {
     "base_uri": "https://localhost:8080/",
     "height": 369
    },
    "id": "uXDTXj0EPXgO",
    "outputId": "168638f8-00d4-4b7d-9f36-7d4b984a1a29"
   },
   "outputs": [
    {
     "name": "stdout",
     "output_type": "stream",
     "text": [
      "[[ 0.24391049  0.40304653  0.38060306]\n",
      " [-0.47437693 -0.74307534 -0.67310885]\n",
      " [ 0.82921211  0.00886301  0.52006976]\n",
      " [-0.04561038 -0.53396654 -0.35559078]\n",
      " [-0.16062744 -0.01391799 -0.07175251]]\n"
     ]
    },
    {
     "data": {
      "text/plain": [
       "<matplotlib.collections.PathCollection at 0x7f8c68b8ebd0>"
      ]
     },
     "execution_count": 24,
     "metadata": {},
     "output_type": "execute_result"
    },
    {
     "data": {
      "image/png": "[encoded data removed]",
      "text/plain": [
       "<Figure size 432x288 with 1 Axes>"
      ]
     },
     "metadata": {
      "needs_background": "light"
     },
     "output_type": "display_data"
    }
   ],
   "source": [
    "print(weight_x_cca)\n",
    "\n",
    "plt.scatter(X.dot(weight_x_cca)[:,2], Y.dot(weight_y_cca)[:,2])"
   ]
  },
  {
   "cell_type": "code",
   "execution_count": 25,
   "metadata": {
    "colab": {
     "base_uri": "https://localhost:8080/",
     "height": 369
    },
    "id": "pTWftzESfx0C",
    "outputId": "2d721866-76c5-4fd4-ab87-1c3c0023601f"
   },
   "outputs": [
    {
     "name": "stdout",
     "output_type": "stream",
     "text": [
      "[[ 0.2415487  -0.32772785 -0.24927466]\n",
      " [-0.47054284  0.58859583  0.10763174]\n",
      " [ 0.83233244  0.44252343  0.28013453]\n",
      " [-0.04077413  0.58734795 -0.35211385]\n",
      " [-0.16063576 -0.07310815  0.85077496]]\n"
     ]
    },
    {
     "data": {
      "text/plain": [
       "<matplotlib.collections.PathCollection at 0x7f8c68b75d10>"
      ]
     },
     "execution_count": 25,
     "metadata": {},
     "output_type": "execute_result"
    },
    {
     "data": {
      "image/png": "[encoded data removed]",
      "text/plain": [
       "<Figure size 432x288 with 1 Axes>"
      ]
     },
     "metadata": {
      "needs_background": "light"
     },
     "output_type": "display_data"
    }
   ],
   "source": [
    "cca = CCA(n_components=3, scale = False)\n",
    "cca.fit(X,Y)\n",
    "print(cca.x_weights_)\n",
    "\n",
    "plt.scatter(X.dot(weight_x_cca)[:,2], Y.dot(weight_y_cca)[:,2])"
   ]
  },
  {
   "cell_type": "markdown",
   "metadata": {
    "id": "lI89d2n8bE6X"
   },
   "source": [
    "## Reduced Rank Regression\n",
    "\n",
    "We finally review reduced rank regression through eigen-decomposition."
   ]
  },
  {
   "cell_type": "code",
   "execution_count": 26,
   "metadata": {
    "id": "0YO1GUEjbE6Y"
   },
   "outputs": [],
   "source": [
    "# Reduced Rank Regression\n",
    "\n",
    "n_components = 2\n",
    "Gamma = np.eye(n_components)\n",
    "\n",
    "SYX = np.dot(Y.T,X)\n",
    "\n",
    "SXX = np.dot(X.T,X)\n",
    "\n",
    "U, S, V = np.linalg.svd(np.dot(SYX, np.dot(np.linalg.pinv(SXX), SYX.T)))\n",
    "\n",
    "A = V[0:n_components, :].T\n",
    "\n",
    "B = np.dot(np.dot(A.T,SYX), np.linalg.pinv(SXX))"
   ]
  },
  {
   "cell_type": "code",
   "execution_count": 27,
   "metadata": {
    "colab": {
     "base_uri": "https://localhost:8080/"
    },
    "id": "2MxP4xP2bE6Z",
    "outputId": "3ae0bdf5-49b2-4fe2-a7e3-f28f0a5d114d"
   },
   "outputs": [
    {
     "data": {
      "text/plain": [
       "array([[-0.24936409, -0.19522003],\n",
       "       [ 0.3233369 , -0.86712778],\n",
       "       [-0.31172187,  0.27190596],\n",
       "       [ 0.56300866,  0.2411439 ],\n",
       "       [ 0.64739595,  0.27909733]])"
      ]
     },
     "execution_count": 27,
     "metadata": {},
     "output_type": "execute_result"
    }
   ],
   "source": [
    "A"
   ]
  },
  {
   "cell_type": "code",
   "execution_count": 28,
   "metadata": {
    "colab": {
     "base_uri": "https://localhost:8080/"
    },
    "id": "Y-oxIQWGbE6b",
    "outputId": "31e073ae-d960-47e7-b22b-15a5020ec65f"
   },
   "outputs": [
    {
     "data": {
      "text/plain": [
       "array([[-0.17847633,  0.34992334, -0.88917092, -0.05742634,  0.16716151],\n",
       "       [ 0.33903723, -0.60088957, -0.58551613, -0.63995952,  0.10694492]])"
      ]
     },
     "execution_count": 28,
     "metadata": {},
     "output_type": "execute_result"
    }
   ],
   "source": [
    "B"
   ]
  },
  {
   "cell_type": "code",
   "execution_count": 29,
   "metadata": {
    "id": "I3_rCSO6bE6c"
   },
   "outputs": [],
   "source": [
    "regression_coef_rrr = np.dot(A,B)"
   ]
  },
  {
   "cell_type": "code",
   "execution_count": 30,
   "metadata": {
    "colab": {
     "base_uri": "https://localhost:8080/",
     "height": 295
    },
    "id": "ckhYTr9ObE6d",
    "outputId": "7330c308-da50-4034-f730-e9cb98434581"
   },
   "outputs": [
    {
     "data": {
      "image/png": "[encoded data removed]",
      "text/plain": [
       "<Figure size 432x288 with 1 Axes>"
      ]
     },
     "metadata": {
      "needs_background": "light"
     },
     "output_type": "display_data"
    }
   ],
   "source": [
    "plt.scatter(np.dot(X,regression_coef)[:,0],Y[:,0])\n",
    "plt.xlabel('predicted dimension 0')\n",
    "plt.ylabel('target dimension 0')\n",
    "plt.title('RRR prediction')\n",
    "plt.show()"
   ]
  },
  {
   "cell_type": "markdown",
   "metadata": {
    "id": "a8Mrev32bE6f"
   },
   "source": [
    "## Sparsity in latent variable models\n",
    "\n",
    "We now focus on the effect of spurious variables in mutivariate models. To explore this new setting, we are going to add spurious random features to our data matrices X and Y.  "
   ]
  },
  {
   "cell_type": "code",
   "execution_count": 31,
   "metadata": {
    "id": "jzXPHX5IbE6f"
   },
   "outputs": [],
   "source": [
    "## Adding 3 random dimensions\n",
    "## No association is expected from these features\n",
    "\n",
    "X_ext = np.hstack([X,np.random.randn(n*3).reshape([n,3])])\n",
    "Y_ext = np.hstack([Y,np.random.randn(n*3).reshape([n,3])])"
   ]
  },
  {
   "cell_type": "code",
   "execution_count": 32,
   "metadata": {
    "colab": {
     "base_uri": "https://localhost:8080/",
     "height": 283
    },
    "id": "s30IL5ypbE6g",
    "outputId": "10c61ee9-9ff6-4e0a-fe2c-501dec2230ec"
   },
   "outputs": [
    {
     "data": {
      "image/png": "[encoded data removed]",
      "text/plain": [
       "<Figure size 432x288 with 1 Axes>"
      ]
     },
     "metadata": {
      "needs_background": "light"
     },
     "output_type": "display_data"
    }
   ],
   "source": [
    "plt.scatter(X_ext[:,0], Y_ext[:,-1])\n",
    "plt.xlabel('X dimension 0')\n",
    "plt.ylabel('Y random dimension')\n",
    "plt.show()"
   ]
  },
  {
   "cell_type": "code",
   "execution_count": 33,
   "metadata": {
    "id": "-uJuKUSLbE6h"
   },
   "outputs": [],
   "source": [
    "from sklearn import linear_model\n",
    "\n",
    "n_components = 3\n",
    "\n",
    "#### Sparse PLS via regularization in NIPALS [Waaijenborg, et al 2007]\n",
    "# Everything is as for the standard NIPALS algorithm, with the added sparse estimation step   \n",
    "\n",
    "loading_x_sparse = np.ndarray([X_ext.shape[1],n_components])\n",
    "loading_y_sparse = np.ndarray([Y_ext.shape[1],n_components])\n",
    "\n",
    "scores_x_sparse = np.ndarray([X_ext.shape[0],n_components])\n",
    "scores_y_sparse = np.ndarray([Y_ext.shape[0],n_components])\n",
    "\n",
    "weight_x_sparse = np.ndarray([X_ext.shape[1],n_components])\n",
    "weight_y_sparse = np.ndarray([Y_ext.shape[1],n_components])\n",
    "\n",
    "current_X = X_ext\n",
    "current_Y = Y_ext\n",
    "\n",
    "## Penalty parameter for regularization\n",
    "penalty = 10\n",
    "\n",
    "eps = 1e-4\n",
    "\n",
    "for i in range(n_components):\n",
    "    t_x = current_X[:,0]\n",
    "    for _ in range(100):\n",
    "        w_y = current_Y.transpose().dot(t_x)/(t_x.transpose().dot(t_x))\n",
    "        w_y = w_y/np.sqrt(np.sum(w_y**2))\n",
    "        t_y = current_Y.dot(w_y)\n",
    "        w_x = current_X.transpose().dot(t_y)/(t_y.transpose().dot(t_y))\n",
    "        w_x = w_x/np.sqrt(np.sum(w_x**2))\n",
    "        t_x = current_X.dot(w_x)\n",
    "        \n",
    "        ## Estimating sparse model for the weights of X\n",
    "        lasso_x = linear_model.Lasso(alpha = penalty)\n",
    "        lasso_x.fit(t_x.reshape(-1, 1), current_X)\n",
    "        \n",
    "        ## Estimating sparse model for the weights of Y\n",
    "        lasso_y = linear_model.Lasso(alpha = penalty)\n",
    "        lasso_y.fit(t_y.reshape(-1, 1), current_Y)\n",
    "        \n",
    "        # Replacing the original weights with the sparse estimation\n",
    "        w_x = (lasso_x.coef_ / (np.sqrt(np.sum(lasso_x.coef_**2) + eps))).reshape([X_ext.shape[1]]) \n",
    "        w_y = (lasso_y.coef_ / (np.sqrt(np.sum(lasso_y.coef_**2) + eps))).reshape([Y_ext.shape[1]])\n",
    "\n",
    "    # Weights are such that X * weights = t\n",
    "    weight_x_sparse[:,i] = w_x\n",
    "    weight_y_sparse[:,i] = w_y\n",
    "    \n",
    "    # Latent dimensions\n",
    "    scores_x_sparse[:,i] = t_x\n",
    "    scores_x_sparse[:,i] = t_y\n",
    "    \n",
    "    # Loadings obtained by regressing X on t (X = t * loadings)\n",
    "    \n",
    "    loading_x_sparse[:,i] = np.dot(current_X.T, t_x)/t_x.transpose().dot(t_x) \n",
    "    loading_y_sparse[:,i] = np.dot(current_Y.T, t_y)/t_y.transpose().dot(t_y)\n",
    "    \n",
    "    # Deflation\n",
    "    \n",
    "    current_X = current_X - t_x.reshape(len(t_x),1).dot(w_x.reshape(1,len(w_x)))\n",
    "    current_Y = current_Y - t_y.reshape(len(t_y),1).dot(w_y.reshape(1,len(w_y)))\n",
    "    "
   ]
  },
  {
   "cell_type": "markdown",
   "metadata": {
    "id": "DI4Eth2MiFui"
   },
   "source": [
    "We observe that the new weights are similar to the ones estimated before. However the parameters associated with the spurious dimension are entirely set to zero. This indicates that the model does not find these features necessary to explain the common variability between X and Y. There are also other weights which are set to zero, corresponding to the third latent dimension. This makes sense, as our synthetic data was indeed created with only two latent dimensions."
   ]
  },
  {
   "cell_type": "code",
   "execution_count": 34,
   "metadata": {
    "colab": {
     "base_uri": "https://localhost:8080/"
    },
    "id": "CC8kmd_dbE6i",
    "outputId": "c0a669d2-37a2-413c-9c0c-b9e2f6647dc6"
   },
   "outputs": [
    {
     "data": {
      "text/plain": [
       "array([[ 0.35947916,  0.09613335,  0.        ],\n",
       "       [-0.57208323, -0.5017898 ,  0.        ],\n",
       "       [ 0.73260855, -0.60111564,  0.        ],\n",
       "       [-0.01764855, -0.61404951,  0.        ],\n",
       "       [-0.0795538 ,  0.        ,  0.        ],\n",
       "       [ 0.        ,  0.        ,  0.        ],\n",
       "       [ 0.        ,  0.        ,  0.        ],\n",
       "       [ 0.        ,  0.        , -0.        ]])"
      ]
     },
     "execution_count": 34,
     "metadata": {},
     "output_type": "execute_result"
    }
   ],
   "source": [
    "weight_x_sparse"
   ]
  },
  {
   "cell_type": "code",
   "execution_count": 35,
   "metadata": {
    "colab": {
     "base_uri": "https://localhost:8080/"
    },
    "id": "I9wR7mBibE6j",
    "outputId": "e65ce870-45b2-4827-b980-b127a62188ba"
   },
   "outputs": [
    {
     "data": {
      "text/plain": [
       "array([[ 0.19008698, -0.03395428, -0.        ],\n",
       "       [-0.3361836 , -0.95121052,  0.        ],\n",
       "       [ 0.29093832,  0.05788278,  0.        ],\n",
       "       [-0.56391994,  0.17865107,  0.        ],\n",
       "       [-0.66936112,  0.24197983,  0.        ],\n",
       "       [-0.        , -0.        , -0.        ],\n",
       "       [ 0.        , -0.        , -0.        ],\n",
       "       [-0.        , -0.        , -0.        ]])"
      ]
     },
     "execution_count": 35,
     "metadata": {},
     "output_type": "execute_result"
    }
   ],
   "source": [
    "weight_y_sparse"
   ]
  },
  {
   "cell_type": "code",
   "execution_count": 36,
   "metadata": {
    "colab": {
     "base_uri": "https://localhost:8080/"
    },
    "id": "SPZWT6wHbE6k",
    "outputId": "21217a7a-e22c-46b9-ccb1-60a5587b1407"
   },
   "outputs": [
    {
     "name": "stdout",
     "output_type": "stream",
     "text": [
      "[[ 0.36753226  0.32695545  0.31901594]\n",
      " [-0.54017132 -0.51142438 -0.13635813]\n",
      " [ 0.73596167 -0.54668695 -0.38095079]\n",
      " [-0.07131382 -0.54068145  0.43213359]\n",
      " [-0.16251074  0.20085364 -0.74011644]]\n",
      "[[ 0.22469208 -0.22321827  0.22848154]\n",
      " [-0.42360052 -0.82303817 -0.17028297]\n",
      " [ 0.34143196  0.23277327 -0.37414229]\n",
      " [-0.53070486  0.30658588 -0.6691619 ]\n",
      " [-0.60979721  0.35299218  0.57536058]]\n"
     ]
    }
   ],
   "source": [
    "## Non-sparse parameters previously estimated\n",
    "\n",
    "print(weight_x)\n",
    "print(weight_y)"
   ]
  },
  {
   "cell_type": "code",
   "execution_count": 37,
   "metadata": {
    "colab": {
     "base_uri": "https://localhost:8080/"
    },
    "id": "HxfPTMZrbE6n",
    "outputId": "b57d638d-8435-49b3-995f-7a2cdb70ddd0"
   },
   "outputs": [
    {
     "name": "stdout",
     "output_type": "stream",
     "text": [
      "[[ 0.36744392 -0.32636735 -0.3736012 ]\n",
      " [-0.53999014  0.51133222  0.13293972]\n",
      " [ 0.73606624  0.54628291  0.34582048]\n",
      " [-0.07131057  0.54141809 -0.49749784]\n",
      " [-0.16262691 -0.20075143  0.52023542]\n",
      " [ 0.00653338 -0.00825341  0.39402462]\n",
      " [ 0.00339241 -0.00798747  0.07331524]\n",
      " [ 0.0038984  -0.00566521  0.21066051]]\n",
      "[[ 0.22481823  0.22219588 -0.39318404]\n",
      " [-0.4232868   0.82282067  0.19587236]\n",
      " [ 0.34171379 -0.2337191   0.39240653]\n",
      " [-0.53068906 -0.30708105  0.46282095]\n",
      " [-0.6097158  -0.353037   -0.46080397]\n",
      " [-0.00986828  0.00097623 -0.2131351 ]\n",
      " [ 0.00469737  0.00268147 -0.28959681]\n",
      " [-0.00361132  0.00533588 -0.31180287]]\n"
     ]
    }
   ],
   "source": [
    "## PLS result from scikit-learn PLS on the data augmented with spurious dimensions \n",
    "\n",
    "plsca = PLSCanonical(n_components=3, scale = False)\n",
    "plsca.fit(X_ext, Y_ext)\n",
    "print(plsca.x_weights_)\n",
    "print(plsca.y_weights_)"
   ]
  },
  {
   "cell_type": "markdown",
   "metadata": {
    "id": "xVAxtnQ4bE6o"
   },
   "source": [
    "## Cross-validating components\n",
    "\n",
    "In addition to sparsity, the optimal number of components in latent variable models can be identified by cross-validation. \n",
    "A common strategy is to train the model on a subset of the data and to quantify the *predicted residual error sum of squares* (PRESS) in non-overlapping testing data. We can finally choose the number of latent dimensions leading to the lowest average PRESS. "
   ]
  },
  {
   "cell_type": "code",
   "execution_count": null,
   "metadata": {
    "id": "dZUKi6jQffAQ"
   },
   "outputs": [],
   "source": [
    "n_cross_valid_run = 200\n",
    "\n",
    "# max number of components to test\n",
    "n_components = 5\n",
    "\n",
    "rep_results = [] \n",
    "for i in range(n_components):\n",
    "  rep_results.append([])\n",
    "\n",
    "for k in range(n_components):\n",
    "  for i in range(n_cross_valid_run):\n",
    "\n",
    "    # Sampling disjoint set of indices for splitting the data\n",
    "    batch1_idx = np.random.choice(range(X_ext.shape[0]), size = int(X_ext.shape[0]/2), replace = False)\n",
    "    batch2_idx = np.where(np.in1d(range(X_ext.shape[0]), batch1_idx, assume_unique=True, invert = True))[0]\n",
    "\n",
    "    # Creating independent data batches for X\n",
    "    X_1 = X_ext[batch1_idx, :]\n",
    "    X_2 = X_ext[batch2_idx, :]\n",
    "\n",
    "    # Creating independent data batches for Y\n",
    "    Y_1 = Y_ext[batch1_idx, :]\n",
    "    Y_2 = Y_ext[batch2_idx, :]\n",
    "\n",
    "    # Creating a model for each data batch\n",
    "    plsca1 = PLSCanonical(n_components = k+1, scale = False)\n",
    "    plsca2 = PLSCanonical(n_components = k+1, scale = False)\n",
    "\n",
    "    # Fitting a model for each data batch\n",
    "    plsca1.fit(X_1,Y_1)\n",
    "    plsca2.fit(X_2,Y_2)\n",
    "\n",
    "    # Quantifying the prediction error on the unseen data batch\n",
    "    err1 = np.sum((plsca1.predict(X_2) - Y_2)**2)\n",
    "    err2 = np.sum((plsca2.predict(X_1) - Y_1)**2)\n",
    "\n",
    "    rep_results[k].append(np.mean([err1,err2]))\n"
   ]
  },
  {
   "cell_type": "code",
   "execution_count": null,
   "metadata": {
    "colab": {
     "base_uri": "https://localhost:8080/",
     "height": 279
    },
    "id": "ENEZZISdvKa1",
    "outputId": "69b1d215-3f2d-4f43-9b4b-50f0b9f5fbc4"
   },
   "outputs": [],
   "source": [
    "plt.plot(range(1,n_components+1),np.mean(rep_results, 1))\n",
    "plt.xlabel('# components')\n",
    "plt.ylabel('prediction error')\n",
    "plt.show()"
   ]
  },
  {
   "cell_type": "markdown",
   "metadata": {
    "id": "rKKYh5jobE6o"
   },
   "source": [
    "# Multi-channel Variational Autoencoder\n",
    "\n",
    "The last part of this tutorial concerns the use of the *multi-channel variational autoencoder* (https://gitlab.inria.fr/epione_ML/mcvae), a more advanced  methods for the joint analysis and prediction of several modalities.\n",
    "\n",
    "## VAE\n",
    "The Variational Autoencoer is a latent variable model composed by one encoder and one decoder associated to a single channel.\n",
    "The latent distribution and the decoding distribution are implemented as follows:\n",
    "\n",
    "$$q(\\mathbf{z|x}) = \\mathcal{N}(\\mathbf{z|\\mu_x; \\Sigma_x})$$\n",
    "\n",
    "$$p(\\mathbf{x|z}) = \\mathcal{N}(\\mathbf{x|\\mu_z; \\Sigma_z})$$\n",
    "\n",
    "They are Gaussians with moments parametrized by Neural Networks (or a linear transformation layer in a simple case).\n",
    "\n",
    "__Exercise__: why is convenient to use $\\log$ values for the parametrization the variance networks output (W_logvar, W_out_logvar)? \n",
    "\n",
    "<img src=\"https://gitlab.inria.fr/epione/flhd/-/raw/master/heterogeneous_data/img/vae.svg\" alt=\"img/vae.svg\">\n",
    "\n",
    "## Sparse VAE\n",
    "To favour sparsity in the latent space we implement the latent distribution as follows:\n",
    "\n",
    "$$q(\\mathbf{z|x}) = \\mathcal{N}(\\mathbf{z|\\mu_x; \\alpha \\odot \\mu_x^2})$$\n",
    "\n",
    "Tha parameter $\\alpha$ represents to the [odds](https://en.wikipedia.org/wiki/Odds) of pruning the $i$-th latent dimension according to (element-wise):\n",
    "\n",
    "$$\\alpha_i = \\frac{p_i}{1 - p_i}$$\n",
    "\n",
    "<img src=\"https://gitlab.inria.fr/epione/flhd/-/raw/master/heterogeneous_data/img/sparse_vae.svg\" alt=\"img/sparse_vae.svg\">\n",
    "\n",
    "## MCVAE\n",
    "The MultiChannel VAE is built by stacking multiple VAEs and allowing the decoding distributions to be computed from every input channel.\n",
    "\n",
    "<img src=\"https://gitlab.inria.fr/epione/flhd/-/raw/master/heterogeneous_data/img/mcvae.svg\" alt=\"img/mcvae.svg\">\n",
    "\n",
    "__Excercise__: sketch the Sparse MCVAE with 3 channels.[[solution]](https://gitlab.inria.fr/epione/flhd/-/raw/master/heterogeneous_data/img/sparse_mcvae_3ch.svg)"
   ]
  },
  {
   "cell_type": "code",
   "execution_count": null,
   "metadata": {
    "colab": {
     "base_uri": "https://localhost:8080/"
    },
    "id": "jBGL07pTbE6o",
    "outputId": "4dbe64f8-980e-4a28-c07c-bd9e7fa3a7ce"
   },
   "outputs": [],
   "source": [
    "import torch\n",
    "from mcvae.models import Mcvae\n",
    "from mcvae.models.utils import DEVICE, load_or_fit\n",
    "from mcvae.diagnostics import *\n",
    "from mcvae.plot import lsplom\n",
    "\n",
    "print(f\"Running on {DEVICE}\")  # cpu or gpu\n",
    "\n",
    "FORCE_REFIT = False  # Set this to 'True' if ou want to refit the models instead of loading them from file."
   ]
  },
  {
   "cell_type": "code",
   "execution_count": null,
   "metadata": {
    "id": "Ku7IxhURbE6q"
   },
   "outputs": [],
   "source": [
    "### To initialization of the mcvae model you should provide:\n",
    "\n",
    "# 1 - a list with the different data channels\n",
    "data = [X, Y]\n",
    "data = [torch.Tensor(_) for _ in data]  #warning: data matrices must be converted to type torch.Tensor\n",
    "\n",
    "# 1 - a dictionary with the data and model characteristics\n",
    "init_dict = {\n",
    "    'data': data,\n",
    "    'lat_dim': n_components,  \n",
    "}"
   ]
  },
  {
   "cell_type": "code",
   "execution_count": null,
   "metadata": {
    "colab": {
     "base_uri": "https://localhost:8080/"
    },
    "id": "h0u_fQlvbE6r",
    "outputId": "7def3447-abfc-4896-99e8-c016012c4e00"
   },
   "outputs": [],
   "source": [
    "# Here we initialize an instance of the model\n",
    "\n",
    "# Multi-Channel VAE\n",
    "torch.manual_seed(24)\n",
    "model = Mcvae(**init_dict)\n",
    "model.to(DEVICE)\n",
    "print(model)"
   ]
  },
  {
   "cell_type": "code",
   "execution_count": null,
   "metadata": {
    "colab": {
     "base_uri": "https://localhost:8080/"
    },
    "id": "P3WSnv6kbE6s",
    "outputId": "d87fd53a-2bcc-4157-ddb3-692b50e62063"
   },
   "outputs": [],
   "source": [
    "###################\n",
    "## Model Fitting ##\n",
    "###################\n",
    "\n",
    "# Set up the optimizer\n",
    "adam_lr = 1e-2\n",
    "n_epochs = 5000\n",
    "model.optimizer = torch.optim.Adam(model.parameters(), lr=adam_lr)\n",
    "\n",
    "# Fit (or load if already trained)\n",
    "load_or_fit(model=model, data=data, epochs=n_epochs, ptfile='model.pt', force_fit=FORCE_REFIT)"
   ]
  },
  {
   "cell_type": "code",
   "execution_count": null,
   "metadata": {
    "colab": {
     "base_uri": "https://localhost:8080/",
     "height": 295
    },
    "id": "Eri50IsIbE6s",
    "outputId": "d7cd127c-ab26-426d-b5ec-87bf21b1d336"
   },
   "outputs": [],
   "source": [
    "## Plotting model convergence\n",
    "plot_loss(model, skip=100)"
   ]
  },
  {
   "cell_type": "markdown",
   "metadata": {
    "id": "xKBJt6pjx0L9"
   },
   "source": [
    "The plot above indicates that the model converged smoothly."
   ]
  },
  {
   "cell_type": "code",
   "execution_count": null,
   "metadata": {
    "colab": {
     "base_uri": "https://localhost:8080/",
     "height": 294
    },
    "id": "3dp0VGV2bE6t",
    "outputId": "8d071aba-0fda-4e6c-938b-76af7a692568"
   },
   "outputs": [],
   "source": [
    "# We can plot the original data, dimension x dimension\n",
    "lsplom(data, title = 'Original data')"
   ]
  },
  {
   "cell_type": "code",
   "execution_count": null,
   "metadata": {
    "colab": {
     "base_uri": "https://localhost:8080/",
     "height": 294
    },
    "id": "qjBw8yhjbE6u",
    "outputId": "8a27b908-6765-4834-bb98-8823aab8621b"
   },
   "outputs": [],
   "source": [
    "# We can estimate the reconstructed data (decoding from the latent space)\n",
    "x_hat = model.reconstruct(data)\n",
    "\n",
    "# Plotting the reconstructed data across dimensions\n",
    "lsplom(x_hat, title = 'Reconstructed data')"
   ]
  },
  {
   "cell_type": "code",
   "execution_count": null,
   "metadata": {
    "colab": {
     "base_uri": "https://localhost:8080/",
     "height": 294
    },
    "id": "gFoHUBq4bE6v",
    "outputId": "b1fcfdd7-74d0-4d3b-f8e1-dd598640a483"
   },
   "outputs": [],
   "source": [
    "## Plotting the weights of the encoder\n",
    "plot_weights(model, side = 'encoder')"
   ]
  },
  {
   "cell_type": "code",
   "execution_count": null,
   "metadata": {
    "colab": {
     "base_uri": "https://localhost:8080/",
     "height": 294
    },
    "id": "n7dqcz9MbE6w",
    "outputId": "7dd48abb-ae38-4db0-db12-15b7fe4d0621"
   },
   "outputs": [],
   "source": [
    "## Plotting the weights of the decoder\n",
    "plot_weights(model, side = 'decoder')"
   ]
  },
  {
   "cell_type": "code",
   "execution_count": null,
   "metadata": {
    "id": "eR48izbIbE6y"
   },
   "outputs": [],
   "source": [
    "# Inspecting model parameters\n",
    "\n",
    "# Decoding parameters\n",
    "weights_decoding_X = model.vae[0].W_out.weight.data\n",
    "weights_decoding_Y = model.vae[1].W_out.weight.data\n",
    "\n",
    "print(weights_decoding_X)\n",
    "print(weights_decoding_Y)"
   ]
  },
  {
   "cell_type": "code",
   "execution_count": null,
   "metadata": {
    "id": "cgSa843tbE60"
   },
   "outputs": [],
   "source": [
    "# Encoding parameters\n",
    "weights_encoding_X = model.vae[0].W_mu.weight.data\n",
    "weights_encoding_Y = model.vae[1].W_mu.weight.data\n",
    "\n",
    "print(weights_encoding_X)\n",
    "print(weights_encoding_Y)"
   ]
  },
  {
   "cell_type": "code",
   "execution_count": null,
   "metadata": {
    "id": "xxdwtuCybE63"
   },
   "outputs": [],
   "source": [
    "# Here we compute the encoding and plot the latent dimensions against our original ground truth for the syntetic data\n",
    "\n",
    "encoding = model.encode(data)\n",
    "\n",
    "# Remember: encodings are distributions\n",
    "print(f'Encoding distribution q for Channel 0: {encoding[0]}')\n",
    "\n",
    "# with the method \"loc\" we extract the mean of the distributions\n",
    "encoding_x = encoding[0].loc.data.numpy()\n",
    "encoding_y = encoding[1].loc.data.numpy()"
   ]
  },
  {
   "cell_type": "markdown",
   "metadata": {
    "id": "wmmv6Gegy5Zr"
   },
   "source": [
    "We note that the estimated encoding is correlated with the original latent dimensions. There seems to be however some redundancy. This motivates the use of a *sparse model*."
   ]
  },
  {
   "cell_type": "code",
   "execution_count": null,
   "metadata": {
    "colab": {
     "base_uri": "https://localhost:8080/",
     "height": 714
    },
    "id": "Y_bHczQZbE64",
    "outputId": "336f33a9-74a0-4c86-c5f1-29f34f3a76e6"
   },
   "outputs": [],
   "source": [
    "plt.figure(figsize=(12, 12))\n",
    "for idx,k in enumerate(range(n_components)):\n",
    "  plt.subplot(n_components,2,2*idx+1)\n",
    "  plt.scatter(encoding_x[:,k], latents[:,0])\n",
    "  plt.xlabel(str('mcvae dim ') + str(k))\n",
    "  plt.ylabel('ground truth 0')\n",
    "  plt.subplot(n_components,2,2*idx+2)\n",
    "  plt.scatter(encoding_x[:,k], latents[:,1])\n",
    "  plt.xlabel(str('mcvae dim ') + str(k))\n",
    "  plt.ylabel('ground truth 1')\n",
    "plt.tight_layout()\n",
    "plt.show()"
   ]
  },
  {
   "cell_type": "code",
   "execution_count": null,
   "metadata": {
    "colab": {
     "base_uri": "https://localhost:8080/"
    },
    "id": "sZ2f3QyQbE64",
    "outputId": "c473a823-d546-47bc-c941-85fe5b24f1ac"
   },
   "outputs": [],
   "source": [
    "# Initialize sparse mcvae\n",
    "\n",
    "model_sparse1 = Mcvae(sparse=True, **init_dict)\n",
    "model_sparse1.to(DEVICE)\n",
    "print(model_sparse1)\n",
    "\n",
    "print('Is the log_alpha parameter the same for every channel?')\n",
    "log_alpha = model_sparse1.vae[0].log_alpha\n",
    "print(np.all([log_alpha is vae.log_alpha for vae in model_sparse1]))"
   ]
  },
  {
   "cell_type": "code",
   "execution_count": null,
   "metadata": {},
   "outputs": [],
   "source": [
    "# Optimize\n",
    "model_sparse1.optimizer = torch.optim.Adam(model_sparse1.parameters(), lr=adam_lr)\n",
    "load_or_fit(model=model_sparse1, data=data, epochs=n_epochs, ptfile='model_sparse1.pt', force_fit=FORCE_REFIT)"
   ]
  },
  {
   "cell_type": "markdown",
   "metadata": {
    "id": "bvj0NwnDzgXZ"
   },
   "source": [
    "The sparse model estimates a probability of redundancy associated to each dimension. This means that we can retain only the dimensions with low probability of redundancy. In this case the model correctly identifies only 2 meaningful latent dimensions. "
   ]
  },
  {
   "cell_type": "code",
   "execution_count": null,
   "metadata": {
    "colab": {
     "base_uri": "https://localhost:8080/",
     "height": 311
    },
    "id": "bSMmJoWebE66",
    "outputId": "7635b375-3077-4d32-dcba-1ec380326d02"
   },
   "outputs": [],
   "source": [
    "print('Probability of redundancy: ', model_sparse1.dropout.data)\n",
    "plot_dropout(model_sparse1, sort=False)"
   ]
  },
  {
   "cell_type": "code",
   "execution_count": null,
   "metadata": {
    "id": "JgstDg9bg6Pf"
   },
   "outputs": [],
   "source": [
    "# We fix a redundancy threshold\n",
    "dropout_threshold = 0.20"
   ]
  },
  {
   "cell_type": "code",
   "execution_count": null,
   "metadata": {
    "colab": {
     "base_uri": "https://localhost:8080/",
     "height": 554
    },
    "id": "8cIbxTfjg-wP",
    "outputId": "f21c3490-b33e-4603-a70c-7293537059df"
   },
   "outputs": [],
   "source": [
    "# We plot the remaining latent dimensions\n",
    "keep = (model_sparse1.dropout.squeeze() < dropout_threshold).tolist()\n",
    "kept_comps = [i for i, kept in enumerate(keep) if kept]\n",
    "print(f'kept components: {kept_comps}')\n",
    "\n",
    "plot_latent_space(model_sparse1, data=data, comp=kept_comps);"
   ]
  },
  {
   "cell_type": "code",
   "execution_count": null,
   "metadata": {
    "colab": {
     "base_uri": "https://localhost:8080/"
    },
    "id": "fR0DdsfsbE67",
    "outputId": "0133d0da-be0d-4bab-c67c-dcead94ce6be"
   },
   "outputs": [],
   "source": [
    "# We repeate the same exercise with the synthetic data with redundant dimensions\n",
    "\n",
    "data_sparse = [X_ext, Y_ext]\n",
    "data_sparse = [torch.Tensor(_) for _ in data_sparse]\n",
    "\n",
    "init_dict = {\n",
    "    'data': data_sparse,\n",
    "    'lat_dim': n_components + 3,\n",
    "}\n",
    "\n",
    "model_sparse = Mcvae(sparse=True, **init_dict)\n",
    "model_sparse.to(DEVICE)\n",
    "print(model_sparse)"
   ]
  },
  {
   "cell_type": "code",
   "execution_count": null,
   "metadata": {
    "colab": {
     "base_uri": "https://localhost:8080/"
    },
    "id": "X_QEBhcjtbna",
    "outputId": "6bf2ef97-239a-48be-e046-9d453d7ab583"
   },
   "outputs": [],
   "source": [
    "# Fit (or load model if existing)\n",
    "model_sparse.optimizer = torch.optim.Adam(model_sparse.parameters(), lr=adam_lr)\n",
    "load_or_fit(model=model_sparse, data=data_sparse, epochs=n_epochs, ptfile='model_sparse.pt', force_fit=FORCE_REFIT)"
   ]
  },
  {
   "cell_type": "markdown",
   "metadata": {
    "id": "7L_4azNO0T6i"
   },
   "source": [
    "We see that the model recognises again only two meaningful latent dimensions"
   ]
  },
  {
   "cell_type": "code",
   "execution_count": null,
   "metadata": {
    "colab": {
     "base_uri": "https://localhost:8080/",
     "height": 345
    },
    "id": "LC2yKkfKbE68",
    "outputId": "3c50a356-d860-4a98-bc65-6d6d0cdd1a77"
   },
   "outputs": [],
   "source": [
    "print('Probability of redundancy: ', model_sparse.dropout.data)\n",
    "indices = np.where(model_sparse.dropout.data.numpy().flatten() < dropout_threshold)[0]\n",
    "non_redundant_comps = indices.tolist()\n",
    "print(f'Non-redundant components: {non_redundant_comps}')\n",
    "plot_dropout(model_sparse, sort=False)"
   ]
  },
  {
   "cell_type": "code",
   "execution_count": null,
   "metadata": {
    "colab": {
     "base_uri": "https://localhost:8080/",
     "height": 294
    },
    "id": "dtSyJ-hFbE69",
    "outputId": "df2a5ad7-7d63-46da-a874-2d6bc84e1067"
   },
   "outputs": [],
   "source": [
    "x_hat = model_sparse.reconstruct(data_sparse, dropout_threshold=dropout_threshold)\n",
    "lsplom(x_hat, title = 'Reconstructed data')"
   ]
  },
  {
   "cell_type": "code",
   "execution_count": null,
   "metadata": {
    "colab": {
     "base_uri": "https://localhost:8080/",
     "height": 324
    },
    "id": "vsGPs9xjbE6-",
    "outputId": "4ac4f386-394b-4d18-9206-c7ab87014309"
   },
   "outputs": [],
   "source": [
    "## Plotting the weights of the decoder\n",
    "plt.figure(figsize=(12, 8))\n",
    "plot_weights(model_sparse, side = 'decoder')"
   ]
  },
  {
   "cell_type": "code",
   "execution_count": null,
   "metadata": {
    "colab": {
     "base_uri": "https://localhost:8080/",
     "height": 324
    },
    "id": "3Y8vF4OSbE6_",
    "outputId": "c3412b99-5bd7-40a2-89d4-41d675f5410b"
   },
   "outputs": [],
   "source": [
    "plt.figure(figsize=(12, 8))\n",
    "plot_weights(model_sparse, side = 'encoder')"
   ]
  },
  {
   "cell_type": "code",
   "execution_count": null,
   "metadata": {
    "colab": {
     "base_uri": "https://localhost:8080/",
     "height": 714
    },
    "id": "8anRUBdObE7A",
    "outputId": "ae420a12-0143-4838-b8f0-e77a2c4a3daa"
   },
   "outputs": [],
   "source": [
    "# PLotting estimated encoding vs ground truth\n",
    "\n",
    "encoding = model_sparse.encode(data_sparse)\n",
    "\n",
    "encoding_x = encoding[0].loc.detach().numpy()\n",
    "encoding_y = encoding[1].loc.detach().numpy()\n",
    "\n",
    "plt.figure(figsize=(12, 12))\n",
    "for idx,k in enumerate(indices):\n",
    "  plt.subplot(len(indices),2,2*idx+1)\n",
    "  plt.scatter(encoding_x[:,k], latents[:,0])\n",
    "  plt.xlabel(str('mcvae dim ') + str(k))\n",
    "  plt.ylabel('ground truth 0')\n",
    "  plt.subplot(len(indices),2,2*idx+2)\n",
    "  plt.scatter(encoding_x[:,k], latents[:,1])\n",
    "  plt.xlabel(str('mcvae dim ') + str(k))\n",
    "  plt.ylabel('ground truth 1')\n",
    "\n",
    "plt.show()"
   ]
  },
  {
   "cell_type": "code",
   "execution_count": null,
   "metadata": {
    "colab": {
     "base_uri": "https://localhost:8080/",
     "height": 537
    },
    "id": "R3_M5YlaE71B",
    "outputId": "e177892c-72b5-4148-c0e4-e5d003d1183c"
   },
   "outputs": [],
   "source": [
    "plot_latent_space(model_sparse, data_sparse, comp=non_redundant_comps);"
   ]
  },
  {
   "cell_type": "markdown",
   "metadata": {
    "id": "kieWlo3leVAt"
   },
   "source": [
    "### Increasing the number of channels\n",
    "\n",
    "In this section we explore the use of the model on data with multiple modalities (or channels)"
   ]
  },
  {
   "cell_type": "code",
   "execution_count": null,
   "metadata": {
    "id": "AoR7yJsqeXvb"
   },
   "outputs": [],
   "source": [
    "# generating a new modality Z\n",
    "# This modality has meaningful as well as redundant dimensions\n",
    "\n",
    "size_z = 10\n",
    "\n",
    "size_z_redundant = 4\n",
    "\n",
    "np.random.seed(37)\n",
    "Z_redundant = np.random.randn(n, size_z_redundant)  # pure noise\n",
    "\n",
    "transform_z = np.random.randint(-8, 8, size=(2, size_z))\n",
    "\n",
    "Z = latents.dot(transform_z) + 2*np.random.normal(size=(n, size_z))\n",
    "Z = np.hstack([Z, Z_redundant])\n",
    "\n",
    "print(X_ext.shape,Y_ext.shape, Z.shape)"
   ]
  },
  {
   "cell_type": "code",
   "execution_count": null,
   "metadata": {
    "colab": {
     "base_uri": "https://localhost:8080/"
    },
    "id": "CVDIt3ssec1I",
    "outputId": "0e9f3726-f1b5-4881-d9c9-14e0d87e64f6"
   },
   "outputs": [],
   "source": [
    "# Initialize the model\n",
    "data_multi = [X_ext, Y_ext, Z]\n",
    "data_multi = [torch.Tensor(_) for _ in data_multi]\n",
    "\n",
    "init_dict = {\n",
    "    'data': data_multi, # [X, Y, Z]\n",
    "    'lat_dim': n_components + 3,\n",
    "}\n",
    "\n",
    "model_multi = Mcvae(sparse=True, **init_dict)\n",
    "model_multi.to(DEVICE)\n",
    "print(model_multi)"
   ]
  },
  {
   "cell_type": "code",
   "execution_count": null,
   "metadata": {
    "colab": {
     "base_uri": "https://localhost:8080/"
    },
    "id": "p_2L3wm5uV7s",
    "outputId": "52938a1a-b200-4dbe-9c19-91023a79308b"
   },
   "outputs": [],
   "source": [
    "# Fit (or load)\n",
    "model_multi.optimizer = torch.optim.Adam(model_multi.parameters(), lr=adam_lr)\n",
    "load_or_fit(model=model_multi, data=data_multi, epochs=n_epochs, ptfile='model_multi.pt', force_fit=FORCE_REFIT)"
   ]
  },
  {
   "cell_type": "code",
   "execution_count": null,
   "metadata": {
    "colab": {
     "base_uri": "https://localhost:8080/",
     "height": 1000
    },
    "id": "QM9z8KI9ei02",
    "outputId": "93965e45-ce35-4409-af94-a83a11dc6acb"
   },
   "outputs": [],
   "source": [
    "print('Probability of redundancy: ', model_multi.dropout.data.numpy())\n",
    "indices = np.where(model_multi.dropout.data.numpy().flatten() < dropout_threshold)[0]\n",
    "print('Non-redundant components: ', indices)\n",
    "plot_dropout(model_multi, sort=False)\n",
    "\n",
    "encoding = model_multi.encode(data_multi)\n",
    "\n",
    "encoding_x = encoding[0].loc.detach().numpy()\n",
    "encoding_y = encoding[1].loc.detach().numpy()\n",
    "encoding_z = encoding[2].loc.detach().numpy()\n",
    "\n",
    "plt.figure(figsize=(12, 12))\n",
    "for idx,k in enumerate(indices):\n",
    "    plt.subplot(len(indices),2,2*idx+1)\n",
    "    plt.scatter(encoding_z[:,k], latents[:,0])\n",
    "    plt.xlabel(str('mcvae dim ') + str(k))\n",
    "    plt.ylabel('ground truth 0')\n",
    "    plt.subplot(len(indices),2,2*idx+2)\n",
    "    plt.scatter(encoding_z[:,k], latents[:,1])\n",
    "    plt.xlabel(str('mcvae dim ') + str(k))\n",
    "    plt.ylabel('ground truth 1')\n",
    "\n",
    "plt.show()"
   ]
  },
  {
   "cell_type": "markdown",
   "metadata": {
    "id": "6AkpD8cL09_d"
   },
   "source": [
    "The multi-channel variational autoencoder allows to predict each channel from any other."
   ]
  },
  {
   "cell_type": "code",
   "execution_count": null,
   "metadata": {
    "id": "67PCF2GGcKsn"
   },
   "outputs": [],
   "source": [
    "# We compute the reconstruction of the data from the encoding\n",
    "z = [_.sample() for _ in encoding]  # sample the encoding distributions\n",
    "p = model_multi.decode(z)  # compute the decoding distributions\n",
    "\n",
    "# This variable has several dimensions over two indices:\n",
    "# the first index indicates the modality to decode(0:x, 1:y, 3:z, ...)\n",
    "# the second index indicates the modality from which the encoding is done (0:x, 1:y, 3:z, ...) \n",
    "\n",
    "# p[x][z]: p(x|z)\n",
    "decoding_x_from_x = p[0][0].loc.data.numpy()\n",
    "decoding_x_from_y = p[0][1].loc.data.numpy()\n",
    "decoding_x_from_z = p[0][2].loc.data.numpy()"
   ]
  },
  {
   "cell_type": "code",
   "execution_count": null,
   "metadata": {
    "colab": {
     "base_uri": "https://localhost:8080/",
     "height": 576
    },
    "id": "0y0yGMQhcNXl",
    "outputId": "86fb62f2-5b43-4255-9290-fa01043c6044"
   },
   "outputs": [],
   "source": [
    "plt.figure(figsize=(18, 10))\n",
    "plt.subplot(2,3,1)\n",
    "plt.scatter(X_ext[:,0], decoding_x_from_x[:,0])\n",
    "plt.title('decoding X from X')\n",
    "plt.xlabel('X0')\n",
    "plt.ylabel('X0 from latent X')\n",
    "plt.subplot(2,3,2)\n",
    "plt.scatter(X_ext[:,0], decoding_x_from_y[:,0])\n",
    "plt.title('decoding X from Y')\n",
    "plt.ylabel('X0 from latent Y')\n",
    "plt.xlabel('X0')\n",
    "plt.subplot(2,3,3)\n",
    "plt.scatter(X_ext[:,0], decoding_x_from_z[:,0])\n",
    "plt.title('decoding X from Z')\n",
    "plt.xlabel('X0')\n",
    "plt.ylabel('X0 from latent Z')\n",
    "plt.subplot(2,3,4)\n",
    "plt.scatter(decoding_x_from_x[:,0], decoding_x_from_y[:,0])\n",
    "plt.title('decoding X vs decoding Y')\n",
    "plt.xlabel('X0 from latent X')\n",
    "plt.ylabel('X0 from latent Y')\n",
    "plt.subplot(2,3,5)\n",
    "plt.scatter(decoding_x_from_x[:,0], decoding_x_from_z[:,0])\n",
    "plt.title('decoding Y vs decoding Z')\n",
    "plt.xlabel('X0 from latent X')\n",
    "plt.ylabel('X0 from latent Z')\n",
    "plt.subplot(2,3,6)\n",
    "plt.scatter(decoding_x_from_y[:,0], decoding_x_from_z[:,0])\n",
    "plt.title('decoding Y vs decoding Z')\n",
    "plt.xlabel('X0 from latent Y')\n",
    "plt.ylabel('X0 from latent Z')\n",
    "plt.tight_layout()\n",
    "plt.show()"
   ]
  },
  {
   "cell_type": "markdown",
   "metadata": {
    "id": "bfKHxkXWqxmY"
   },
   "source": [
    "# Application to (pseudo-) neurological data\n",
    "\n",
    "We are going to load volumetric and cognitive data for a synthetic sample generated from the ADNI dataset.\n",
    "The exercise consists in applying the methods seen so far to understand the relationship between this kind of variables."
   ]
  },
  {
   "cell_type": "code",
   "execution_count": null,
   "metadata": {
    "colab": {
     "base_uri": "https://localhost:8080/",
     "height": 419
    },
    "id": "-LzoZTAWq0Tf",
    "outputId": "cdd7652e-081f-4437-ef11-fe26eec88cc8"
   },
   "outputs": [],
   "source": [
    "import pandas as pd\n",
    "\n",
    "adni = pd.read_csv('https://marcolorenzi.github.io/material/pseudo_adni.csv')\n",
    "\n",
    "brain_volume_cols = ['WholeBrain.bl', 'Ventricles.bl', 'Hippocampus.bl', 'MidTemp.bl', 'Entorhinal.bl']\n",
    "cognition_cols = ['CDRSB.bl', 'ADAS11.bl', 'MMSE.bl', 'RAVLT.immediate.bl', 'RAVLT.learning.bl', 'RAVLT.forgetting.bl', 'FAQ.bl']\n",
    "\n",
    "adni[brain_volume_cols]\n"
   ]
  },
  {
   "cell_type": "code",
   "execution_count": null,
   "metadata": {
    "id": "KOQLTtfmq-St"
   },
   "outputs": [],
   "source": [
    "volumes_value = adni[brain_volume_cols].values\n",
    "\n",
    "# Standardization of volumetric measures\n",
    "volumes_value = (volumes_value - volumes_value.mean(0)) / volumes_value.std(0)"
   ]
  },
  {
   "cell_type": "code",
   "execution_count": null,
   "metadata": {
    "colab": {
     "base_uri": "https://localhost:8080/",
     "height": 419
    },
    "id": "mYzM_EbDrECI",
    "outputId": "2edade49-5723-481b-ffb9-9c43f591d123"
   },
   "outputs": [],
   "source": [
    "adni[cognition_cols]"
   ]
  },
  {
   "cell_type": "code",
   "execution_count": null,
   "metadata": {
    "id": "ra-oAnC_rJBg"
   },
   "outputs": [],
   "source": [
    "cognition_value = adni[cognition_cols].values\n",
    "\n",
    "# Standardization of cognitive measures\n",
    "cognition_value = (cognition_value - cognition_value.mean(0)) / cognition_value.std(0)"
   ]
  },
  {
   "cell_type": "code",
   "execution_count": null,
   "metadata": {
    "colab": {
     "base_uri": "https://localhost:8080/"
    },
    "id": "AprwvjSJrTeF",
    "outputId": "d1210024-23b9-48f3-bf19-61013e60393f"
   },
   "outputs": [],
   "source": [
    "plsca_adni = PLSCanonical(n_components=3, scale = False)\n",
    "plsca_adni.fit(cognition_value,volumes_value)\n",
    "print(plsca_adni.x_weights_)\n",
    "print(plsca_adni.y_weights_)"
   ]
  },
  {
   "cell_type": "code",
   "execution_count": null,
   "metadata": {
    "id": "-8g91KHyrej5"
   },
   "outputs": [],
   "source": [
    "n_cross_valid_run = 200\n",
    "\n",
    "# number of components to test\n",
    "n_components = 5\n",
    "\n",
    "rep_results = [] \n",
    "for i in range(n_components):\n",
    "  rep_results.append([])\n",
    "\n",
    "for k in range(n_components):\n",
    "  for i in range(n_cross_valid_run):\n",
    "\n",
    "    # Sampling disjoint set of indices for splitting the data\n",
    "    batch1_idx = np.random.choice(range(cognition_value.shape[0]), size = int(cognition_value.shape[0]/2), replace = False)\n",
    "    batch2_idx = np.where(np.in1d(range(cognition_value.shape[0]), batch1_idx, assume_unique=True, invert = True))[0]\n",
    "\n",
    "    # Creating independent data batches for X\n",
    "    X_1 = cognition_value[batch1_idx, :]\n",
    "    X_2 = cognition_value[batch2_idx, :]\n",
    "\n",
    "    # Creating independent data batches for Y\n",
    "    Y_1 = volumes_value[batch1_idx, :]\n",
    "    Y_2 = volumes_value[batch2_idx, :]\n",
    "\n",
    "    # Creating a model for each data batch\n",
    "    cca_adni1 = CCA(n_components = k+1, scale = False)\n",
    "    cca_adni2 = CCA(n_components = k+1, scale = False)\n",
    "\n",
    "    # Fitting a model for each data batch\n",
    "    cca_adni1.fit(X_1,Y_1)\n",
    "    cca_adni2.fit(X_2,Y_2)\n",
    "\n",
    "    # Quantifying the prediction error on the unseen data batch\n",
    "    err1 = np.sum((cca_adni1.predict(X_2) - Y_2)**2)\n",
    "    err2 = np.sum((cca_adni2.predict(X_1) - Y_1)**2)\n",
    "\n",
    "    rep_results[k].append(np.mean([err1,err2]))\n"
   ]
  },
  {
   "cell_type": "code",
   "execution_count": null,
   "metadata": {
    "colab": {
     "base_uri": "https://localhost:8080/",
     "height": 279
    },
    "id": "eHnWUduIsYj_",
    "outputId": "92721aea-9f3d-4611-d80e-24a8938b3021"
   },
   "outputs": [],
   "source": [
    "plt.plot(range(1,n_components+1),np.mean(rep_results, 1))\n",
    "plt.xlabel('# components')\n",
    "plt.ylabel('prediction error')\n",
    "plt.show()"
   ]
  },
  {
   "cell_type": "code",
   "execution_count": null,
   "metadata": {
    "colab": {
     "base_uri": "https://localhost:8080/",
     "height": 607
    },
    "id": "qodzauhuwh2x",
    "outputId": "9f7234ae-e1b0-403a-ed1d-3641231c798d"
   },
   "outputs": [],
   "source": [
    "plsca_adni = PLSCanonical(n_components=1, scale = False)\n",
    "plsca_adni.fit(cognition_value,volumes_value)\n",
    "\n",
    "f = plt.figure(figsize=(15,10))\n",
    "f.add_subplot(2,1,1)\n",
    "plt.bar(np.arange(len(plsca_adni.x_weights_[:,0])), plsca_adni.x_weights_[:,0], tick_label = cognition_cols)\n",
    "plt.title('Component x')\n",
    "f.add_subplot(2,1,2)\n",
    "plt.bar(np.arange(len(plsca_adni.y_weights_[:,0])), plsca_adni.y_weights_[:,0], tick_label = brain_volume_cols)\n",
    "plt.title('Component y')\n",
    "plt.show()\n"
   ]
  },
  {
   "cell_type": "code",
   "execution_count": null,
   "metadata": {
    "colab": {
     "base_uri": "https://localhost:8080/",
     "height": 265
    },
    "id": "4YuOQLqpiO1f",
    "outputId": "82b49419-11f5-4b0e-fdbb-f485432fe559"
   },
   "outputs": [],
   "source": [
    "plt.scatter(plsca_adni.x_scores_[:,0], plsca_adni.y_scores_[:,0], c = cognition_value[:,1])\n",
    "plt.show()"
   ]
  },
  {
   "cell_type": "markdown",
   "metadata": {
    "id": "jxyKQjV3I4bj"
   },
   "source": [
    "## McVAE\n",
    "\n",
    "In this last application we apply the multichannel autoencoder to the pseudo-ADNI data, for jointly modeling different modalities across individuals. We focus on the joint analysis of:\n",
    "\n",
    "- brain volumes;\n",
    "- sociodemographic information (e.g. age, sex, scholarity); \n",
    "- cognition; \n",
    "- apoe genotype;\n",
    "- fluid biomarkers (abeta and tay concentrations in the CSF)."
   ]
  },
  {
   "cell_type": "markdown",
   "metadata": {
    "id": "r8WKeAH4W3SA"
   },
   "source": [
    "We first import and standardize the different data modalities."
   ]
  },
  {
   "cell_type": "code",
   "execution_count": null,
   "metadata": {},
   "outputs": [],
   "source": [
    "adni = pd.read_csv('https://marcolorenzi.github.io/material/pseudo_adni.csv')\n",
    "\n",
    "normalize = lambda _: (_ - _.mean(0))/_.std(0)\n",
    "\n",
    "volume_cols = ['WholeBrain.bl', 'Ventricles.bl', 'Hippocampus.bl', 'MidTemp.bl', 'Entorhinal.bl']\n",
    "volumes_value = adni[volume_cols].values\n",
    "volumes_value = normalize(volumes_value)\n",
    "\n",
    "demog_cols = ['SEX', 'AGE', 'PTEDUCAT']\n",
    "demog_value = adni[demog_cols].values\n",
    "demog_value = normalize(demog_value)\n",
    "\n",
    "cognition_cols = ['CDRSB.bl', 'ADAS11.bl', 'MMSE.bl', 'RAVLT.immediate.bl', 'RAVLT.learning.bl', 'RAVLT.forgetting.bl', 'FAQ.bl']\n",
    "cognition_value = adni[cognition_cols].values\n",
    "cognition_value = normalize(cognition_value)\n",
    "\n",
    "apoe_cols = ['APOE4']\n",
    "apoe_value = adni[apoe_cols].values\n",
    "apoe_value = normalize(apoe_value)\n",
    "\n",
    "fluid_cols = ['ABETA.MEDIAN.bl', 'PTAU.MEDIAN.bl', 'TAU.MEDIAN.bl']\n",
    "fluid_value = adni[fluid_cols].values\n",
    "fluid_value = normalize(fluid_value)\n",
    "\n",
    "# Creating a list with multimodal data\n",
    "data_adni = [volumes_value, demog_value, cognition_value, apoe_value, fluid_value]\n",
    "\n",
    "# Transform as a pytorch Tensor for compatibility\n",
    "data_adni = [torch.Tensor(_) for _ in data_adni]\n",
    "\n",
    "print(f'We have {len(data_adni)} channels in total as an input for the model')"
   ]
  },
  {
   "cell_type": "code",
   "execution_count": null,
   "metadata": {
    "id": "DpEqM6FKI4bo"
   },
   "outputs": [],
   "source": [
    "# Defining data and model characteristics\n",
    "\n",
    "init_dict = {\n",
    "    'data': data_adni,\n",
    "    'lat_dim': 5, # We fit 5 latent dimensions\n",
    "}"
   ]
  },
  {
   "cell_type": "code",
   "execution_count": null,
   "metadata": {
    "colab": {
     "base_uri": "https://localhost:8080/"
    },
    "id": "5bpD6qh3I4bp",
    "outputId": "544e06b8-1950-4b61-b3ad-ffbdcd3cbb70"
   },
   "outputs": [],
   "source": [
    "# Initialize the model\n",
    "\n",
    "model_adni = Mcvae(sparse=True, **init_dict)\n",
    "model_adni.to(DEVICE)\n",
    "print(model_adni)"
   ]
  },
  {
   "cell_type": "code",
   "execution_count": null,
   "metadata": {},
   "outputs": [],
   "source": [
    "adam_lr = 1e-2\n",
    "n_epochs = 6000\n",
    "\n",
    "model_adni.optimizer = torch.optim.Adam(model_adni.parameters(), lr=adam_lr)\n",
    "load_or_fit(model=model_adni, data=data_adni, epochs=n_epochs, ptfile='model_adni.pt', force_fit=FORCE_REFIT)"
   ]
  },
  {
   "cell_type": "markdown",
   "metadata": {
    "id": "UaiNyAx_rJOt"
   },
   "source": [
    "The model identified only a significant dimension, that we are going to store and analyze:"
   ]
  },
  {
   "cell_type": "code",
   "execution_count": null,
   "metadata": {
    "colab": {
     "base_uri": "https://localhost:8080/",
     "height": 328
    },
    "id": "d_YhoXFPI4bq",
    "outputId": "fefc2d99-2a72-47dc-c1f0-8463db2f0373"
   },
   "outputs": [],
   "source": [
    "print('Rendundancy: ', model_adni.dropout.detach().numpy())\n",
    "significant_dim = np.where(model_adni.dropout.detach().numpy()<0.5)[1]\n",
    "print('Significant dimensions: ', significant_dim)\n",
    "plot_dropout(model_adni, sort=False)"
   ]
  },
  {
   "cell_type": "code",
   "execution_count": null,
   "metadata": {
    "colab": {
     "base_uri": "https://localhost:8080/"
    },
    "id": "pTeBTJbUI4bq",
    "outputId": "584ddad7-9000-4b18-f8fd-4fd325b001b0"
   },
   "outputs": [],
   "source": [
    "# Here we store in a list the deconding weights estimated for each modality. \n",
    "# We are interested in the decoding weights corresponding to the non-redundant dimension\n",
    "\n",
    "decoding_weights = []\n",
    "decoding_weights = [vae.W_out.weight.data.numpy()[:, significant_dim[0]] for vae in model_adni]\n",
    "\n",
    "decoding_weights[0]  # Channel 0: Brain Volumes"
   ]
  },
  {
   "cell_type": "markdown",
   "metadata": {
    "id": "dF0OLWlVro_E"
   },
   "source": [
    "The weights give us a nice way to interpret how the different modalities interact together."
   ]
  },
  {
   "cell_type": "code",
   "execution_count": null,
   "metadata": {
    "colab": {
     "base_uri": "https://localhost:8080/",
     "height": 717
    },
    "id": "xsDNGhapI4br",
    "outputId": "e30ed7df-320b-4274-8740-64dab8ec76ca"
   },
   "outputs": [],
   "source": [
    "plt.figure(figsize=(12, 12))\n",
    "plt.subplot(5,1,1)\n",
    "plt.bar(np.arange(len(decoding_weights[0])), decoding_weights[0], tick_label = volume_cols)\n",
    "plt.subplot(5,1,2)\n",
    "plt.bar(np.arange(len(decoding_weights[1])), decoding_weights[1], tick_label = demog_cols)\n",
    "plt.subplot(5,1,3)\n",
    "plt.bar(np.arange(len(decoding_weights[2])), decoding_weights[2], tick_label = cognition_cols)\n",
    "plt.subplot(5,1,4)\n",
    "plt.bar(np.arange(len(decoding_weights[3])), decoding_weights[3], tick_label = apoe_cols)\n",
    "plt.subplot(5,1,5)\n",
    "plt.bar(np.arange(len(decoding_weights[4])), decoding_weights[4], tick_label = fluid_cols)\n"
   ]
  },
  {
   "cell_type": "markdown",
   "metadata": {
    "id": "2ZxnI4qTr1Lz"
   },
   "source": [
    "Once the model is learnt we can use it for prediction. For example we can predict brain volumes from the cognitive data:"
   ]
  },
  {
   "cell_type": "code",
   "execution_count": null,
   "metadata": {
    "id": "3IyEdFrcI4bs"
   },
   "outputs": [],
   "source": [
    "# Predicting volumes (channel 0) from cognition (channel 2)\n",
    "predictions = model_adni.reconstruct(data_adni, reconstruct_from=[2])\n",
    "decoding_volume_from_cognition = predictions[0].data.numpy()"
   ]
  },
  {
   "cell_type": "code",
   "execution_count": null,
   "metadata": {
    "colab": {
     "base_uri": "https://localhost:8080/",
     "height": 1000
    },
    "id": "1Iqcds0lI4bt",
    "outputId": "50da9d35-319f-4cda-ce04-9c00166c1b1c"
   },
   "outputs": [],
   "source": [
    "plt.figure(figsize=(12, 28))\n",
    "\n",
    "# Plotting predictions for each volumetric feature\n",
    "for i in range(5):\n",
    "    plt.subplot(5,1,i+1)\n",
    "    plt.scatter(decoding_volume_from_cognition[:,i], volumes_value[:,i])\n",
    "    plt.title('reconstruction ' + volume_cols[i])\n",
    "    plt.xlabel('predicted')\n",
    "    plt.ylabel('target')\n",
    "plt.show()"
   ]
  },
  {
   "cell_type": "markdown",
   "metadata": {
    "id": "bhSMWX6bsU7x"
   },
   "source": [
    "We are finally going to compare the multichannel model with the standard PLS modeling cognition and brain volumes jointly:"
   ]
  },
  {
   "cell_type": "code",
   "execution_count": null,
   "metadata": {
    "colab": {
     "base_uri": "https://localhost:8080/"
    },
    "id": "BDunWuRVI4bt",
    "outputId": "d0b53d3f-8b3d-4d24-90f9-4a042d76ea84"
   },
   "outputs": [],
   "source": [
    "plsca = PLSCanonical(n_components=1, scale = False)\n",
    "plsca.fit(cognition_value,volumes_value)\n",
    "print(plsca.x_weights_)\n",
    "print(plsca.y_weights_)"
   ]
  },
  {
   "cell_type": "markdown",
   "metadata": {
    "id": "ua7rHRiksjsx"
   },
   "source": [
    "We obtain predictions from the PLS model and compare them with the predictions of mcvae. We observe a strong correlation between predictions. However, it can be noted that as we increase the number of dimensions of CCA, the difference between prediction increases, as CCA tends to overfit. "
   ]
  },
  {
   "cell_type": "code",
   "execution_count": null,
   "metadata": {
    "colab": {
     "base_uri": "https://localhost:8080/",
     "height": 371
    },
    "id": "O4SFSHCgI4bv",
    "outputId": "5d7b0f52-3b19-4530-9838-38a4d60e043e"
   },
   "outputs": [],
   "source": [
    "predicted_plsca = plsca.predict(cognition_value)\n",
    "\n",
    "plt.figure(figsize=(26, 18))\n",
    "\n",
    "for i in range(5):\n",
    "    plt.subplot(10,2,2*i+1)\n",
    "    plt.scatter(predicted_plsca[:,i], volumes_value[:,i])\n",
    "    plt.title('reconstruction' + volume_cols[i])\n",
    "    plt.xlabel('predicted')\n",
    "    plt.ylabel('target')\n",
    "       \n",
    "for i in range(5):\n",
    "    plt.subplot(10,2,2*i+2)\n",
    "    plt.scatter(predicted_plsca[:,i], decoding_volume_from_cognition[:,i])\n",
    "    plt.title('reconstruction' + volume_cols[i])\n",
    "    plt.xlabel('cca')\n",
    "    plt.ylabel('mcvae')\n",
    "    \n",
    "plt.show()"
   ]
  },
  {
   "cell_type": "code",
   "execution_count": null,
   "metadata": {
    "colab": {
     "base_uri": "https://localhost:8080/"
    },
    "id": "M5DYp-_hI4bw",
    "outputId": "a592e87b-a8fb-48fb-db81-f2e92ad4735a"
   },
   "outputs": [],
   "source": [
    "# Comparing average reconstruction errors between models\n",
    "\n",
    "print('Reconstruction error:')\n",
    "print(f'CCA: {((predicted_plsca-volumes_value)**2).sum()}')\n",
    "print(f'mcvae: {((decoding_volume_from_cognition-volumes_value)**2).sum()}')"
   ]
  },
  {
   "cell_type": "markdown",
   "metadata": {
    "id": "33w3KIjHtGyl"
   },
   "source": [
    "It is interesting to notice that mcvae leads to a lower reconstruction error than CCA, as the prediction of mcvae benefits from training from other modalities as well."
   ]
  }
 ],
 "metadata": {
  "colab": {
   "collapsed_sections": [],
   "name": "Lorenzi_multivariate_models_v1-7.ipynb",
   "provenance": [],
   "toc_visible": true
  },
  "hide_input": false,
  "kernelspec": {
   "display_name": "Python 3",
   "language": "python",
   "name": "python3"
  },
  "language_info": {
   "codemirror_mode": {
    "name": "ipython",
    "version": 3
   },
   "file_extension": ".py",
   "mimetype": "text/x-python",
   "name": "python",
   "nbconvert_exporter": "python",
   "pygments_lexer": "ipython3",
   "version": "3.7.6"
  }
 },
 "nbformat": 4,
 "nbformat_minor": 1
}
